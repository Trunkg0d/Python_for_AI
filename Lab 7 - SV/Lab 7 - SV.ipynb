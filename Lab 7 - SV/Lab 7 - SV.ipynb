{
 "cells": [
  {
   "cell_type": "markdown",
   "id": "ebb11af9",
   "metadata": {},
   "source": [
    "# LAB 7 - PANDAS\n",
    "\n",
    "Bài tập rèn luyện khả năng sử dụng thư viện `pandas` của ngôn ngữ lập trình `Python`\n",
    "\n",
    "Họ tên:\n",
    "\n",
    "MSSV:"
   ]
  },
  {
   "cell_type": "markdown",
   "id": "8573bd30",
   "metadata": {},
   "source": [
    "&#127802; Sinh viên lưu ý mình sẽ dùng chương trình hỗ trợ chấm bài nên bạn cần phải tuân thủ chính xác qui định mà mình đặt ra, nếu không rõ thì hỏi, chứ không nên tự tiện làm theo ý của cá nhân.\n",
    "\n",
    "**Cách làm bài**\n",
    "\n",
    "Bạn sẽ làm trực tiếp trên file Python notebook này. Đầu tiên, bạn điền họ tên và MSSV vào phần đầu file ở bên trên. Trong file, bạn làm bài ở những chỗ có ghi là:\n",
    "\n",
    "```python\n",
    "# YOUR CODE HERE\n",
    "raise NotImplementedError()\n",
    "```\n",
    "hoặc đối với những phần code không bắt buộc thì là:\n",
    "```python\n",
    "# YOUR CODE HERE (OPTION)\n",
    "```\n",
    "\n",
    "Tất nhiên, khi làm thì bạn xóa dòng `raise NotImplementedError()` đi.\n",
    "Đối những phần yêu cầu code thì thường ở ngay phía dưới sẽ có một (hoặc một số) cell chứa các bộ test để giúp bạn biết đã code đúng hay chưa; nếu chạy cell này không có lỗi gì thì có nghĩa là qua được các bộ test. Trong một số trường hợp, các bộ test có thể sẽ không đầy đủ; nghĩa là, nếu không qua được test thì là code sai, nhưng nếu qua được test thì chưa chắc đã đúng hoàn toàn.\n",
    "\n",
    "Trong khi làm bài, bạn có thể cho in ra màn hình, tạo thêm các cell để test. Nhưng khi nộp bài thì bạn xóa các cell mà bạn tự tạo, xóa hoặc comment các câu lệnh in ra màn hình. Bạn lưu ý <font color=red>không được tự tiện xóa các cell hay sửa code của Thầy</font> (trừ những chỗ được phép sửa như đã nói ở trên).\n",
    "\n",
    "\n",
    "Trong khi làm bài, thường xuyên `Ctrl + S` để lưu lại bài làm của bạn, tránh mất mát thông tin.\n",
    "\n",
    "Bạn có thể thảo luận ý tưởng với bạn khác hoặc từ các nguồn khác, nhưng code và bài làm phải là của bạn, dựa trên sự hiểu thật sự của bạn. Nếu vi phạm thì sẽ bị 0 điểm cho toàn bộ môn học.\n",
    "\n",
    "**Cách nộp bài**\n",
    "\n",
    "Khi chấm bài, đầu tiên mình sẽ chọn `Kernel` - `Restart & Run All` để restart và chạy tất cả các cell trong notebook của bạn; do đó, trước khi nộp bài, bạn nên chạy thử `Kernel` - `Restart & Run All` để đảm bảo mọi chuyện diễn ra đúng như mong đợi.\n",
    "\n",
    "Sau đó, bạn tạo thư mục nộp bài theo cấu trúc sau:\n",
    "- Thư mục `MSSV` (vd, nếu bạn có MSSV là 123 thì bạn đặt tên thư mục là `123`)\n",
    "    - File `Lab 7 - SV.ipynb`\n",
    "- Các bạn nén lại MSSV.zip (*.zip chứ không phải .rar hay gì khác)\n",
    "\n",
    "Cuối cùng, bạn nén thư mục `MSSV` này lại và nộp ở link trên moodle. <font color=red>Bạn lưu ý tuân thủ chính xác qui định nộp bài.</font>"
   ]
  },
  {
   "cell_type": "code",
   "execution_count": null,
   "id": "2ea3ae8e",
   "metadata": {},
   "outputs": [],
   "source": [
    "import os\n",
    "import numpy as np\n",
    "import pandas as pd\n",
    "# YOUR CODE HERE (OPTION)"
   ]
  },
  {
   "cell_type": "markdown",
   "id": "56233443",
   "metadata": {},
   "source": [
    "# 0. Giới thiệu\n",
    "Về cơ bản, pandas có hai cấu trúc dữ liệu chính: Series và DataFrame.\n",
    "Trong phần giới thiệu này, ta sẽ tìm hiểu về hai cấu trúc dữ liệu này và một số thao tác cơ bản trên hai dữ liệu này."
   ]
  },
  {
   "cell_type": "markdown",
   "id": "f176e596",
   "metadata": {},
   "source": [
    "## 1. Series\n",
    "- Nhiệm vụ của sinh viên: tạo `Series` lưu trữ mảng gồm các giá trị [9, 5, 2022]. Kết quả được lưu trong biến `my_series`."
   ]
  },
  {
   "cell_type": "code",
   "execution_count": null,
   "id": "47db710c",
   "metadata": {},
   "outputs": [],
   "source": [
    "my_series = None\n",
    "\n",
    "# YOUR CODE HERE\n",
    "raise NotImplementedError()"
   ]
  },
  {
   "cell_type": "markdown",
   "id": "49241d84",
   "metadata": {},
   "source": [
    "- Tiếp theo, truy xuất các value (dùng câu lệnh `.values`) và các index (dùng câu lệnh `.index`) của `my_series`. Kết quả được lưu trong biến `my_series_values` và `my_series_index`."
   ]
  },
  {
   "cell_type": "code",
   "execution_count": null,
   "id": "16dcf723",
   "metadata": {},
   "outputs": [],
   "source": [
    "my_series_values = None\n",
    "my_series_index = None\n",
    "\n",
    "# YOUR CODE HERE\n",
    "raise NotImplementedError()"
   ]
  },
  {
   "cell_type": "code",
   "execution_count": null,
   "id": "68943691",
   "metadata": {
    "deletable": false,
    "editable": false
   },
   "outputs": [],
   "source": [
    "# TEST\n",
    "assert (my_series_values == [9, 5, 2022]).all() == True\n",
    "assert (my_series_index == [0, 1, 2]).all() == True"
   ]
  },
  {
   "cell_type": "markdown",
   "id": "b2c29f7b",
   "metadata": {},
   "source": [
    "## 2. DataFrame\n",
    "\n",
    "- Nhiệm vụ của sinh viên, tạo DataFrame với dữ liệu được lưu trong biến `data` bên dưới. Kết quả được lưu vào biến `my_dataframe`"
   ]
  },
  {
   "cell_type": "code",
   "execution_count": null,
   "id": "15fc32d9",
   "metadata": {},
   "outputs": [],
   "source": [
    "data = {'city': ['Sai Gon', 'Ha Noi', 'Hai Phong', 'Ben Tre', 'Da Nang', 'Can Tho'],\n",
    "        'pop': [1.5, 1.7, 3.6, 2.4, 2.9, 3.2]}\n",
    "\n",
    "# ĐƠN VỊ NGHÌN NGƯỜI"
   ]
  },
  {
   "cell_type": "code",
   "execution_count": null,
   "id": "8d795f29",
   "metadata": {},
   "outputs": [],
   "source": [
    "my_dataframe = None\n",
    "\n",
    "# YOUR CODE HERE\n",
    "raise NotImplementedError()"
   ]
  },
  {
   "cell_type": "code",
   "execution_count": null,
   "id": "af4fda88",
   "metadata": {
    "deletable": false,
    "editable": false
   },
   "outputs": [],
   "source": [
    "# TEST\n",
    "assert type(my_dataframe) == pd.core.frame.DataFrame\n",
    "assert my_dataframe.shape == (6, 2)"
   ]
  },
  {
   "cell_type": "markdown",
   "id": "bba38423",
   "metadata": {},
   "source": [
    "- Để có thể hiển thị dữ liệu của DataFrame, người ta thường dùng câu lệnh `.head`. \n",
    "(Nếu bạn khởi tạo DataFrame chính xác, khi chạy câu lệnh bên dưới sẽ có bảng tính khá đẹp.)"
   ]
  },
  {
   "cell_type": "code",
   "execution_count": null,
   "id": "40227371",
   "metadata": {},
   "outputs": [],
   "source": [
    "my_dataframe.head()"
   ]
  },
  {
   "cell_type": "markdown",
   "id": "f4e4877e",
   "metadata": {},
   "source": [
    "- Tiếp theo, ta thêm cột `GDP` vào tương ứng, với các giá trị lần lượt là: [1000, 1000, 500, 300, 500, 400]. Kết quả vẫn được cập nhật vào biến `my_dataframe`"
   ]
  },
  {
   "cell_type": "code",
   "execution_count": null,
   "id": "99a58583",
   "metadata": {},
   "outputs": [],
   "source": [
    "# YOUR CODE HERE\n",
    "raise NotImplementedError()"
   ]
  },
  {
   "cell_type": "code",
   "execution_count": null,
   "id": "a947e6e2",
   "metadata": {
    "deletable": false,
    "editable": false
   },
   "outputs": [],
   "source": [
    "# TEST\n",
    "assert (my_dataframe.loc[:, \"GDP\"].values == [1000, 1000,  500,  300,  500,  400]).all() == True"
   ]
  },
  {
   "cell_type": "markdown",
   "id": "43a85641",
   "metadata": {},
   "source": [
    "- Tiếp theo, ta thêm giá trị của Huế vào. Với bộ giá trị là `{\"city\": \"Hue\", \"pop\": 1.0, \"GDP\": 700}`\n",
    "Kết quả vẫn được cập nhật vào biến `my_dataframe` "
   ]
  },
  {
   "cell_type": "code",
   "execution_count": null,
   "id": "aa2b4b7c",
   "metadata": {},
   "outputs": [],
   "source": [
    "# YOUR CODE HERE\n",
    "raise NotImplementedError()"
   ]
  },
  {
   "cell_type": "code",
   "execution_count": null,
   "id": "0be7a274",
   "metadata": {
    "deletable": false,
    "editable": false
   },
   "outputs": [],
   "source": [
    "# TEST\n",
    "assert my_dataframe.shape == (7, 3)\n",
    "assert type(my_dataframe) == pd.core.frame.DataFrame"
   ]
  },
  {
   "cell_type": "markdown",
   "id": "e8ba438d",
   "metadata": {},
   "source": [
    "- Tiếp theo, ta tính tổng dân số (cột `pop`). Kết quả lưu vào biến `sum_pop`"
   ]
  },
  {
   "cell_type": "code",
   "execution_count": null,
   "id": "f9d72bc3",
   "metadata": {},
   "outputs": [],
   "source": [
    "sum_pop = None\n",
    "\n",
    "# YOUR CODE HERE\n",
    "raise NotImplementedError()"
   ]
  },
  {
   "cell_type": "code",
   "execution_count": null,
   "id": "b2a9104f",
   "metadata": {
    "deletable": false,
    "editable": false
   },
   "outputs": [],
   "source": [
    "# TEST\n",
    "assert sum_pop == 16.3"
   ]
  },
  {
   "cell_type": "markdown",
   "id": "785d067d",
   "metadata": {},
   "source": [
    "- Tiếp theo, ta sẽ tìm ra các thành phố có GDP lớn hơn 600. Kết quả được lưu vào biến `city_big_gdp`.\n",
    "**LƯU Ý**: `city_big_gdp` là một DataFrame. (Trên lớp, nếu mình quên, sinh viên nhắc mình hướng dẫn câu này)"
   ]
  },
  {
   "cell_type": "code",
   "execution_count": null,
   "id": "f1d4d1fe",
   "metadata": {},
   "outputs": [],
   "source": [
    "city_big_gdp = None\n",
    "\n",
    "# YOUR CODE HERE\n",
    "raise NotImplementedError()"
   ]
  },
  {
   "cell_type": "code",
   "execution_count": null,
   "id": "e399d799",
   "metadata": {
    "deletable": false,
    "editable": false
   },
   "outputs": [],
   "source": [
    "# TEST\n",
    "assert type(city_big_gdp) == pd.core.frame.DataFrame\n",
    "assert city_big_gdp.shape == (3, 3)\n",
    "assert city_big_gdp.iloc[0, 0] == \"Sai Gon\"\n",
    "assert city_big_gdp.iloc[1, 0] == \"Ha Noi\"\n",
    "assert city_big_gdp.iloc[2, 0] == \"Hue\""
   ]
  },
  {
   "cell_type": "markdown",
   "id": "55f5a0ac",
   "metadata": {},
   "source": [
    "- Tiếp theo, ta sẽ thử truy xuất giá trị GDP của Hà Nội. Kết quả lưu vào biến `gdp_hn`"
   ]
  },
  {
   "cell_type": "code",
   "execution_count": null,
   "id": "0841168f",
   "metadata": {},
   "outputs": [],
   "source": [
    "# YOUR CODE HERE\n",
    "raise NotImplementedError()"
   ]
  },
  {
   "cell_type": "code",
   "execution_count": null,
   "id": "75eea3ae",
   "metadata": {
    "deletable": false,
    "editable": false
   },
   "outputs": [],
   "source": [
    "# TEST\n",
    "assert gdp_hn == [1000]"
   ]
  },
  {
   "cell_type": "markdown",
   "id": "28972d9d",
   "metadata": {},
   "source": [
    "- Tiếp theo, ta tính toán lại giá trị GDP, bằng cách lấy GDP cũ nhân cho 2. \n",
    "Kết quả vẫn được cập nhật vào biến `my_dataframe` "
   ]
  },
  {
   "cell_type": "code",
   "execution_count": null,
   "id": "f0ac88dd",
   "metadata": {},
   "outputs": [],
   "source": [
    "# YOUR CODE HERE\n",
    "raise NotImplementedError()"
   ]
  },
  {
   "cell_type": "code",
   "execution_count": null,
   "id": "270cedc9",
   "metadata": {
    "deletable": false,
    "editable": false
   },
   "outputs": [],
   "source": [
    "# TEST\n",
    "assert (my_dataframe.iloc[:, 2].values == [2000, 2000, 1000,  600, 1000,  800, 1400]).all() == True"
   ]
  },
  {
   "cell_type": "markdown",
   "id": "39fe8b6e",
   "metadata": {},
   "source": [
    "# 3. Một số thống kê cơ bản\n",
    "\n",
    "Trong phần tiếp theo này, ta vẫn tiếp tục dùng `my_dataframe`"
   ]
  },
  {
   "cell_type": "code",
   "execution_count": null,
   "id": "0a0b7e81",
   "metadata": {},
   "outputs": [],
   "source": [
    "my_dataframe"
   ]
  },
  {
   "cell_type": "markdown",
   "id": "43367e72",
   "metadata": {},
   "source": [
    "- Ta thực hiện tính tổng GDP tất cả các thành phố. Giá trị được lưu vào biến `sum_gdp`"
   ]
  },
  {
   "cell_type": "code",
   "execution_count": null,
   "id": "422296a6",
   "metadata": {},
   "outputs": [],
   "source": [
    "sum_gdp = None\n",
    "\n",
    "# YOUR CODE HERE\n",
    "raise NotImplementedError()"
   ]
  },
  {
   "cell_type": "code",
   "execution_count": null,
   "id": "ea477bd0",
   "metadata": {
    "deletable": false,
    "editable": false
   },
   "outputs": [],
   "source": [
    "# TEST\n",
    "assert sum_gdp == 8800"
   ]
  },
  {
   "cell_type": "markdown",
   "id": "fed03574",
   "metadata": {},
   "source": [
    "- Ta tìm **tên** thành phố có GDP lớn nhất và GDP bé nhất. Kết quả được lưu vào biến `city_biggest_gdp` và `city_smallest_gdp`"
   ]
  },
  {
   "cell_type": "code",
   "execution_count": null,
   "id": "f490b711",
   "metadata": {},
   "outputs": [],
   "source": [
    "city_biggest_gdp = None\n",
    "city_smallest_gdp = None\n",
    "\n",
    "# YOUR CODE HERE\n",
    "raise NotImplementedError()"
   ]
  },
  {
   "cell_type": "code",
   "execution_count": null,
   "id": "5125279f",
   "metadata": {
    "deletable": false,
    "editable": false
   },
   "outputs": [],
   "source": [
    "# TEST\n",
    "assert (city_biggest_gdp == ['Sai Gon', 'Ha Noi']).all()\n",
    "assert (city_smallest_gdp == ['Ben Tre']).all()"
   ]
  },
  {
   "attachments": {
    "image.png": {
     "image/png": "[encoded data removed]"
    }
   },
   "cell_type": "markdown",
   "id": "3604cfa6",
   "metadata": {},
   "source": [
    "- Tiếp theo, ta biểu diễn GDP thành biểu đồ cho dễ quan sát. Sinh viên tìm hiểu lệnh `.plot` của DataFrame. Kết quả đúng sẽ giống như vậy:\n",
    "![image.png](attachment:image.png)"
   ]
  },
  {
   "cell_type": "code",
   "execution_count": null,
   "id": "0956cc4a",
   "metadata": {
    "scrolled": true
   },
   "outputs": [],
   "source": [
    "# YOUR CODE HERE\n",
    "raise NotImplementedError()"
   ]
  },
  {
   "cell_type": "markdown",
   "id": "5d52e590",
   "metadata": {},
   "source": [
    "- Ta tính GDP bình quân đầu người. Bằng cách lấy `GDP` / (`pop`*1000). lý do nhan 1000 vì đơn vị của `pop` là nghìn người.\n",
    "- Kết quả lưu vào biến `gdp_per_person`"
   ]
  },
  {
   "cell_type": "code",
   "execution_count": null,
   "id": "ecaa6973",
   "metadata": {},
   "outputs": [],
   "source": [
    "# YOUR CODE HERE\n",
    "raise NotImplementedError()"
   ]
  },
  {
   "cell_type": "code",
   "execution_count": null,
   "id": "cc428b3b",
   "metadata": {
    "deletable": false,
    "editable": false
   },
   "outputs": [],
   "source": [
    "# TEST\n",
    "assert (gdp_per_person.round(1) == [1.3, 1.2, 0.3, 0.2, 0.3, 0.2, 1.4]).all() == True"
   ]
  },
  {
   "cell_type": "code",
   "execution_count": null,
   "id": "ce203393",
   "metadata": {},
   "outputs": [],
   "source": []
  }
 ],
 "metadata": {
  "kernelspec": {
   "display_name": "Python 3",
   "language": "python",
   "name": "python3"
  },
  "language_info": {
   "codemirror_mode": {
    "name": "ipython",
    "version": 3
   },
   "file_extension": ".py",
   "mimetype": "text/x-python",
   "name": "python",
   "nbconvert_exporter": "python",
   "pygments_lexer": "ipython3",
   "version": "3.7.9"
  }
 },
 "nbformat": 4,
 "nbformat_minor": 5
}
