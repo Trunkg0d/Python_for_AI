{
 "cells": [
  {
   "cell_type": "markdown",
   "id": "a6b5c836",
   "metadata": {},
   "source": [
    "# LAB 6 -  ĐỆ QUY\n",
    "Bài tập rèn luyện khả năng lập trình đệ quy cho sinh viên\n",
    "\n",
    "Họ tên:\n",
    "\n",
    "MSSV:"
   ]
  },
  {
   "cell_type": "markdown",
   "id": "6fe0211c",
   "metadata": {},
   "source": [
    "&#127802; Sinh viên lưu ý mình sẽ dùng chương trình hỗ trợ chấm bài nên bạn cần phải tuân thủ chính xác qui định mà mình đặt ra, nếu không rõ thì hỏi, chứ không nên tự tiện làm theo ý của cá nhân.\n",
    "\n",
    "**Cách làm bài**\n",
    "\n",
    "Bạn sẽ làm trực tiếp trên file Python notebook này. Đầu tiên, bạn điền họ tên và MSSV vào phần đầu file ở bên trên. Trong file, bạn làm bài ở những chỗ có ghi là:\n",
    "\n",
    "```python\n",
    "# YOUR CODE HERE\n",
    "raise NotImplementedError()\n",
    "```\n",
    "hoặc đối với những phần code không bắt buộc thì là:\n",
    "```python\n",
    "# YOUR CODE HERE (OPTION)\n",
    "```\n",
    "\n",
    "Tất nhiên, khi làm thì bạn xóa dòng `raise NotImplementedError()` đi.\n",
    "Đối những phần yêu cầu code thì thường ở ngay phía dưới sẽ có một (hoặc một số) cell chứa các bộ test để giúp bạn biết đã code đúng hay chưa; nếu chạy cell này không có lỗi gì thì có nghĩa là qua được các bộ test. Trong một số trường hợp, các bộ test có thể sẽ không đầy đủ; nghĩa là, nếu không qua được test thì là code sai, nhưng nếu qua được test thì chưa chắc đã đúng hoàn toàn.\n",
    "\n",
    "Trong khi làm bài, bạn có thể cho in ra màn hình, tạo thêm các cell để test. Nhưng khi nộp bài thì bạn xóa các cell mà bạn tự tạo, xóa hoặc comment các câu lệnh in ra màn hình. Bạn lưu ý <font color=red>không được tự tiện xóa các cell hay sửa code của Thầy</font> (trừ những chỗ được phép sửa như đã nói ở trên).\n",
    "\n",
    "\n",
    "Trong khi làm bài, thường xuyên `Ctrl + S` để lưu lại bài làm của bạn, tránh mất mát thông tin.\n",
    "\n",
    "Bạn có thể thảo luận ý tưởng với bạn khác hoặc từ các nguồn khác, nhưng code và bài làm phải là của bạn, dựa trên sự hiểu thật sự của bạn. Nếu vi phạm thì sẽ bị 0 điểm cho toàn bộ môn học.\n",
    "\n",
    "**Cách nộp bài**\n",
    "\n",
    "Khi chấm bài, đầu tiên mình sẽ chọn `Kernel` - `Restart & Run All` để restart và chạy tất cả các cell trong notebook của bạn; do đó, trước khi nộp bài, bạn nên chạy thử `Kernel` - `Restart & Run All` để đảm bảo mọi chuyện diễn ra đúng như mong đợi.\n",
    "\n",
    "Sau đó, bạn tạo thư mục nộp bài theo cấu trúc sau:\n",
    "- Thư mục `MSSV` (vd, nếu bạn có MSSV là 123 thì bạn đặt tên thư mục là `123`)\n",
    "    - File `Lab 6 - SV.ipynb`\n",
    "- Các bạn nén lại MSSV.zip (*.zip chứ không phải .rar hay gì khác)\n",
    "\n",
    "Cuối cùng, bạn nén thư mục `MSSV` này lại và nộp ở link trên moodle. <font color=red>Bạn lưu ý tuân thủ chính xác qui định nộp bài.</font>"
   ]
  },
  {
   "cell_type": "markdown",
   "id": "a5cc65e3",
   "metadata": {},
   "source": [
    "# Lưu ý:\n",
    "- Trong bài tập này, sinh viên tự tạo các bộ test và kiểm tra tính đúng bài code của chính mình. "
   ]
  },
  {
   "cell_type": "code",
   "execution_count": null,
   "id": "4d7b129e",
   "metadata": {},
   "outputs": [],
   "source": [
    "import os\n",
    "# YOUR CODE HERE (OPTION)"
   ]
  },
  {
   "cell_type": "markdown",
   "id": "6d1fa52b",
   "metadata": {},
   "source": [
    "# Bài 1\n",
    "\n",
    "- Viết chương trình tính tổng S = 1+ 2 + 3 + … + n\n",
    "- Nhiệm vụ của sinh viên: hoàn thành hàm `sum_to_n(n)`"
   ]
  },
  {
   "cell_type": "code",
   "execution_count": null,
   "id": "d3665a14",
   "metadata": {},
   "outputs": [],
   "source": [
    "def sum_to_n(n):\n",
    "    raise NotImplementedError()"
   ]
  },
  {
   "cell_type": "code",
   "execution_count": null,
   "id": "0f19e960",
   "metadata": {},
   "outputs": [],
   "source": [
    "# TEST"
   ]
  },
  {
   "cell_type": "markdown",
   "id": "c673e7f8",
   "metadata": {},
   "source": [
    "# Bài 2\n",
    "- Viết chương trình tính $x^n$\n",
    "- Nhiệm vụ của sinh viên: hoàn thành hàm `my_power(x, n)`"
   ]
  },
  {
   "cell_type": "code",
   "execution_count": null,
   "id": "24578f27",
   "metadata": {},
   "outputs": [],
   "source": [
    "def my_power(x, n):\n",
    "    raise NotImplementedError()"
   ]
  },
  {
   "cell_type": "code",
   "execution_count": null,
   "id": "54efe646",
   "metadata": {},
   "outputs": [],
   "source": [
    "# TEST"
   ]
  },
  {
   "cell_type": "markdown",
   "id": "cd53ea58",
   "metadata": {},
   "source": [
    "# Bài 3\n",
    "\n",
    "- Viết chương trình tìm ước chung lớn nhất.\n",
    "- Nhiệm vụ của sinh viên: hoàn thành hàm `my_gcd(a, b)`"
   ]
  },
  {
   "cell_type": "code",
   "execution_count": null,
   "id": "0b9d54b9",
   "metadata": {},
   "outputs": [],
   "source": [
    "def my_gcd(a, b):\n",
    "    raise NotImplementedError()"
   ]
  },
  {
   "cell_type": "code",
   "execution_count": null,
   "id": "ae26832b",
   "metadata": {},
   "outputs": [],
   "source": [
    "# TEST"
   ]
  },
  {
   "cell_type": "markdown",
   "id": "8d403329",
   "metadata": {},
   "source": [
    "# Bài 4\n",
    "\n",
    "- Viết chương trình tìm bội chung nhỏ nhất.\n",
    "- Nhiệm vụ của sinh viên: hoàn thành hàm `my_lcm(a, b)`"
   ]
  },
  {
   "cell_type": "code",
   "execution_count": null,
   "id": "55cf976a",
   "metadata": {},
   "outputs": [],
   "source": [
    "def my_lcm(a, b):\n",
    "    raise NotImplementedError()"
   ]
  },
  {
   "cell_type": "code",
   "execution_count": null,
   "id": "b3619743",
   "metadata": {},
   "outputs": [],
   "source": [
    "# TEST"
   ]
  },
  {
   "cell_type": "markdown",
   "id": "b13cf030",
   "metadata": {},
   "source": [
    "# Bài 5\n",
    "\n",
    "- Viết chương trình tính số thứ n của dãy Fibonacci. Với công thức dãy Fibonnacci là:\n",
    "\n",
    "$\n",
    "F_0 = 0\n",
    "$\n",
    "\n",
    "$\n",
    "F_1 = 1\n",
    "$\n",
    "\n",
    "$\n",
    "F_n = F_{n-1} + F_{n-2}\n",
    "$\n",
    "\n",
    "- Nhiệm vụ của sinh viên: hoàn thành hàm `fibonacci(n)`"
   ]
  },
  {
   "cell_type": "code",
   "execution_count": null,
   "id": "e2b1a072",
   "metadata": {},
   "outputs": [],
   "source": [
    "def fibonacci(n):\n",
    "    raise NotImplementedError()"
   ]
  },
  {
   "cell_type": "code",
   "execution_count": null,
   "id": "5d8955ce",
   "metadata": {},
   "outputs": [],
   "source": [
    "# TEST"
   ]
  },
  {
   "cell_type": "markdown",
   "id": "67dfccf3",
   "metadata": {},
   "source": [
    "# Bài 6\n",
    "- Viết chương trình tính tổng các giá trị trong danh sách\n",
    "- Nhiệm vụ của sinh viên: hoàn thành hàm `sum_of_list(arr)`"
   ]
  },
  {
   "cell_type": "code",
   "execution_count": null,
   "id": "fdb22ac8",
   "metadata": {},
   "outputs": [],
   "source": [
    "def sum_of_list(arr):\n",
    "    raise NotImplementedError()"
   ]
  },
  {
   "cell_type": "code",
   "execution_count": null,
   "id": "c8014018",
   "metadata": {},
   "outputs": [],
   "source": [
    "# TEST"
   ]
  },
  {
   "cell_type": "markdown",
   "id": "0622c188",
   "metadata": {},
   "source": [
    "# Bài 7\n",
    "\n",
    "- Viết chương trình tìm giá trị lớn nhất trong danh sách\n",
    "- Nhiệm vụ của sinh viên: hoàn thành hàm `max_of_list(arr)`"
   ]
  },
  {
   "cell_type": "code",
   "execution_count": null,
   "id": "62557ab8",
   "metadata": {},
   "outputs": [],
   "source": [
    "def max_of_list(arr):\n",
    "    raise NotImplementedError()"
   ]
  },
  {
   "cell_type": "code",
   "execution_count": null,
   "id": "741331cf",
   "metadata": {},
   "outputs": [],
   "source": [
    "# TEST"
   ]
  },
  {
   "cell_type": "markdown",
   "id": "5cd4f797",
   "metadata": {},
   "source": [
    "# Bài 8\n",
    "- Viết chương trình tìm giá trị nhỏ nhất trong danh sách\n",
    "- Nhiệm vụ của sinh viên: hoàn thành hàm `min_of_list(arr)`"
   ]
  },
  {
   "cell_type": "code",
   "execution_count": null,
   "id": "e21aa5b5",
   "metadata": {},
   "outputs": [],
   "source": [
    "def min_of_list(arr):\n",
    "    raise NotImplementedError()"
   ]
  },
  {
   "cell_type": "code",
   "execution_count": null,
   "id": "70655d22",
   "metadata": {},
   "outputs": [],
   "source": [
    "# TEST"
   ]
  },
  {
   "cell_type": "markdown",
   "id": "f35cfe67",
   "metadata": {},
   "source": [
    "# Bài 9\n",
    "\n",
    "- Viết chương trình sắp xếp các phần tử trong danh sách theo thứ tự tăng dần. (sinh viên có thể cài đặt bất kỳ thuật toán sắp xếp nào miễn là đệ quy – Gợi ý: sinh viên tham khảo thuật toán Quicksort). \n",
    "- Nhiệm vụ của sinh viên: hoàn thành hàm `my_sort(arr)`"
   ]
  },
  {
   "cell_type": "code",
   "execution_count": null,
   "id": "f389cb0a",
   "metadata": {},
   "outputs": [],
   "source": [
    "def my_sort(arr):\n",
    "    raise NotImplementedError()"
   ]
  },
  {
   "cell_type": "code",
   "execution_count": null,
   "id": "1381365a",
   "metadata": {},
   "outputs": [],
   "source": [
    "# TEST"
   ]
  },
  {
   "cell_type": "markdown",
   "id": "3735133f",
   "metadata": {},
   "source": [
    "# Bài 10\n",
    "\n",
    "- Viết chương trình để kiểm tra xem một chuỗi đã cho có phải là Palindrome hay không. \n",
    "- Nhiệm vụ của sinh viên: hoàn thành hàm `check_palindrome(s)`:"
   ]
  },
  {
   "cell_type": "code",
   "execution_count": null,
   "id": "c736a859",
   "metadata": {},
   "outputs": [],
   "source": [
    "def check_palindrome(s):\n",
    "    raise NotImplementedError()"
   ]
  },
  {
   "cell_type": "code",
   "execution_count": null,
   "id": "06f7f778",
   "metadata": {},
   "outputs": [],
   "source": [
    "# TEST"
   ]
  }
 ],
 "metadata": {
  "kernelspec": {
   "display_name": "Python 3",
   "language": "python",
   "name": "python3"
  },
  "language_info": {
   "codemirror_mode": {
    "name": "ipython",
    "version": 3
   },
   "file_extension": ".py",
   "mimetype": "text/x-python",
   "name": "python",
   "nbconvert_exporter": "python",
   "pygments_lexer": "ipython3",
   "version": "3.7.9"
  }
 },
 "nbformat": 4,
 "nbformat_minor": 5
}
