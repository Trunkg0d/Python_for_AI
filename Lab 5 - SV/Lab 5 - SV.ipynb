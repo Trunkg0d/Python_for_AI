{
 "cells": [
  {
   "cell_type": "markdown",
   "id": "f05a9fa5",
   "metadata": {},
   "source": [
    "# Lab 5 \n",
    "\n",
    "Bài tập rèn luyện khả năng sử dụng thư viện `numpy` của ngôn ngữ lập trình `Python`\n",
    "\n",
    "Họ tên:\n",
    "\n",
    "MSSV:"
   ]
  },
  {
   "cell_type": "markdown",
   "id": "e8687109",
   "metadata": {},
   "source": [
    "&#127802; Sinh viên lưu ý mình sẽ dùng chương trình hỗ trợ chấm bài nên bạn cần phải tuân thủ chính xác qui định mà mình đặt ra, nếu không rõ thì hỏi, chứ không nên tự tiện làm theo ý của cá nhân.\n",
    "\n",
    "**Cách làm bài**\n",
    "\n",
    "Bạn sẽ làm trực tiếp trên file Python notebook này. Đầu tiên, bạn điền họ tên và MSSV vào phần đầu file ở bên trên. Trong file, bạn làm bài ở những chỗ có ghi là:\n",
    "\n",
    "```python\n",
    "# YOUR CODE HERE\n",
    "raise NotImplementedError()\n",
    "```\n",
    "hoặc đối với những phần code không bắt buộc thì là:\n",
    "```python\n",
    "# YOUR CODE HERE (OPTION)\n",
    "```\n",
    "\n",
    "Tất nhiên, khi làm thì bạn xóa dòng `raise NotImplementedError()` đi.\n",
    "Đối những phần yêu cầu code thì thường ở ngay phía dưới sẽ có một (hoặc một số) cell chứa các bộ test để giúp bạn biết đã code đúng hay chưa; nếu chạy cell này không có lỗi gì thì có nghĩa là qua được các bộ test. Trong một số trường hợp, các bộ test có thể sẽ không đầy đủ; nghĩa là, nếu không qua được test thì là code sai, nhưng nếu qua được test thì chưa chắc đã đúng hoàn toàn.\n",
    "\n",
    "Trong khi làm bài, bạn có thể cho in ra màn hình, tạo thêm các cell để test. Nhưng khi nộp bài thì bạn xóa các cell mà bạn tự tạo, xóa hoặc comment các câu lệnh in ra màn hình. Bạn lưu ý <font color=red>không được tự tiện xóa các cell hay sửa code của Thầy</font> (trừ những chỗ được phép sửa như đã nói ở trên).\n",
    "\n",
    "\n",
    "Trong khi làm bài, thường xuyên `Ctrl + S` để lưu lại bài làm của bạn, tránh mất mát thông tin.\n",
    "\n",
    "Bạn có thể thảo luận ý tưởng với bạn khác hoặc từ các nguồn khác, nhưng code và bài làm phải là của bạn, dựa trên sự hiểu thật sự của bạn. Nếu vi phạm thì sẽ bị 0 điểm cho toàn bộ môn học.\n",
    "\n",
    "**Cách nộp bài**\n",
    "\n",
    "Khi chấm bài, đầu tiên mình sẽ chọn `Kernel` - `Restart & Run All` để restart và chạy tất cả các cell trong notebook của bạn; do đó, trước khi nộp bài, bạn nên chạy thử `Kernel` - `Restart & Run All` để đảm bảo mọi chuyện diễn ra đúng như mong đợi.\n",
    "\n",
    "Sau đó, bạn tạo thư mục nộp bài theo cấu trúc sau:\n",
    "- Thư mục `MSSV` (vd, nếu bạn có MSSV là 123 thì bạn đặt tên thư mục là `123`)\n",
    "    - File `Lab 5 - SV.ipynb`\n",
    "- Các bạn nén lại MSSV.zip (*.zip chứ không phải .rar hay gì khác)\n",
    "\n",
    "Cuối cùng, bạn nén thư mục `MSSV` này lại và nộp ở link trên moodle. <font color=red>Bạn lưu ý tuân thủ chính xác qui định nộp bài.</font>"
   ]
  },
  {
   "cell_type": "code",
   "execution_count": null,
   "id": "c048021c",
   "metadata": {},
   "outputs": [],
   "source": [
    "import os\n",
    "from PIL import Image\n",
    "import numpy as np\n",
    "import matplotlib.pyplot as plt\n",
    "%matplotlib inline\n",
    "\n",
    "# YOUR CODE HERE (OPTION)"
   ]
  },
  {
   "cell_type": "markdown",
   "id": "80b3200c",
   "metadata": {},
   "source": [
    "# 1. Cơ bản về numpy"
   ]
  },
  {
   "cell_type": "markdown",
   "id": "1a1c3b85",
   "metadata": {},
   "source": [
    "- **Trong bài tập này (và hầu hết các tài liệu khác), ta sẽ dùng alias `np`**\n",
    "- Để kiểm tra phiên bản `numpy`, bạn có thể dùng câu lệnh `np.__version__`"
   ]
  },
  {
   "cell_type": "code",
   "execution_count": null,
   "id": "ead53959",
   "metadata": {},
   "outputs": [],
   "source": [
    "np.__version__"
   ]
  },
  {
   "cell_type": "markdown",
   "id": "4d9c4775",
   "metadata": {},
   "source": [
    "- Trong bài tập này, ta sẽ làm việc chủ yếu với mảng dưới đây.\n",
    "- Mảng mô tả thu nhập của một nhóm người (đơn vị: nghìn USD)."
   ]
  },
  {
   "cell_type": "code",
   "execution_count": null,
   "id": "2c3c4a53",
   "metadata": {},
   "outputs": [],
   "source": [
    "arr = np.array([10,9,9,9,9,9,9,9,9,9,9,9,9,9,9,9,9,9,9,8,8,8,8,8,8,8,8,8,8,8,\\\n",
    "                100,49,41,40,25,21,21,19,19,18,18,16,15,15,15,15,14,14,13,\\\n",
    "                13,13,13,12,12,11,10,10,10,10,10,10,10,10,10,10,10,10,10,10,\\\n",
    "                4,4,4,4,4,4,4,4,4,4,4,4,4,4,3,3,3,3,3,3,3,3,3,3,3,3,3,3,3,3,3,\\\n",
    "                8,8,7,7,7,7,7,7,7,7,7,7,7,7,7,7,7,6,6,6,6,6,6,6,6,6,6,6,6,6,6,\\\n",
    "                3,3,3,2,2,2,2,2,2,2,2,2,2,2,2,2,2,2,2,2,1,1,1,1,1,1,1,1,1,1,1,1,\\\n",
    "                1,1,1,1,1,1,1,1,1,1,6,6,6,6,6,6,6,6,5,5,5,5,5,5,5,5,5,5,5,5,5,5,5,5,5,4,4,4,4,4,4], dtype=np.int32)"
   ]
  },
  {
   "cell_type": "markdown",
   "id": "371db02c",
   "metadata": {},
   "source": [
    "- Hai thuộc tính quan trọng của mảng `numpy` là shape và `dtype`. \n",
    "    + `shape`: dùng để truy xuất kích thước của dữ liệu. \n",
    "    + `dtype`: dùng để truy xuất kiểu dữ liệu của mảng.\n",
    "    \n",
    "    \n",
    "- Nhiệm vụ của sinh viên: truy xuất `shape` và `dtype` và lần lượt lưu vào các biến `my_shape`, `my_dtype`"
   ]
  },
  {
   "cell_type": "code",
   "execution_count": null,
   "id": "a8d497b0",
   "metadata": {},
   "outputs": [],
   "source": [
    "my_shape = None\n",
    "my_dtype = None\n",
    "\n",
    "# YOUR CODE HERE\n",
    "raise NotImplementedError()"
   ]
  },
  {
   "cell_type": "code",
   "execution_count": null,
   "id": "969bee6b",
   "metadata": {},
   "outputs": [],
   "source": [
    "# TEST\n",
    "assert my_shape == (204,)\n",
    "assert my_dtype == np.int32"
   ]
  },
  {
   "cell_type": "markdown",
   "id": "90c0b125",
   "metadata": {},
   "source": [
    "- Ngoài ra, ta còn có thể truy xuất kích thước của mảng, thông qua câu lệnh `itemsize` và `nbytes`:\n",
    "    + `itemsize`: dùng để truy xuất kích thước (tính theo bytes) của mỗi phần tử. \n",
    "    + `nbytes`: dùng để truy xuất kích thước (tính theo bytes) của toàn bộ mảng. \n",
    "    \n",
    "\n",
    "- Nhiệm vụ của sinh viên: truy xuất `itemsize` và `nbytes` và lần lượt lưu vào các biết `my_itemsize`, `my_nbytes`"
   ]
  },
  {
   "cell_type": "code",
   "execution_count": null,
   "id": "90674539",
   "metadata": {},
   "outputs": [],
   "source": [
    "my_itemsize = None\n",
    "my_nbytes = None\n",
    "\n",
    "# YOUR CODE HERE\n",
    "raise NotImplementedError()"
   ]
  },
  {
   "cell_type": "code",
   "execution_count": null,
   "id": "6d7526ed",
   "metadata": {},
   "outputs": [],
   "source": [
    "assert my_itemsize == 4\n",
    "assert my_nbytes == arr.shape[0] * my_itemsize"
   ]
  },
  {
   "cell_type": "markdown",
   "id": "9f8c7594",
   "metadata": {},
   "source": [
    "- Để có thể dễ dàng quan sát hơn, ta thực hiện sắp xếp các giá trị trong mảng theo thứu tự **giảm dần**. \n",
    "- Nhiệm vụ của sinh viên: sắp xếp mảng `arr` và lưu giá trị ngược lại vào biến `arr`"
   ]
  },
  {
   "cell_type": "code",
   "execution_count": null,
   "id": "9442ad71",
   "metadata": {},
   "outputs": [],
   "source": [
    "# YOUR CODE HERE\n",
    "raise NotImplementedError()"
   ]
  },
  {
   "cell_type": "code",
   "execution_count": null,
   "id": "2a9704a8",
   "metadata": {},
   "outputs": [],
   "source": [
    "# TEST\n",
    "assert arr[0] == 100\n",
    "assert arr[-1] == 1"
   ]
  },
  {
   "cell_type": "markdown",
   "id": "4f5d3241",
   "metadata": {},
   "source": [
    "- Truy xuất ra 5 giá trị lớn nhất, trong mảng `arr`\n",
    "- Nhiệm vụ của sinh viên, truy xuất và lưu vào biến `top_5_max`"
   ]
  },
  {
   "cell_type": "code",
   "execution_count": null,
   "id": "35159f2f",
   "metadata": {},
   "outputs": [],
   "source": [
    "top_5_max = None\n",
    "\n",
    "# YOUR CODE HERE\n",
    "raise NotImplementedError()"
   ]
  },
  {
   "cell_type": "code",
   "execution_count": null,
   "id": "e862ddf3",
   "metadata": {},
   "outputs": [],
   "source": [
    "# TEST\n",
    "assert (top_5_max == np.array([100, 49, 41, 40, 25])).all() == True"
   ]
  },
  {
   "cell_type": "markdown",
   "id": "0061419f",
   "metadata": {},
   "source": [
    "# 2. Giới thiệu numpy level 2\n",
    "\n",
    "- Một trong những điểm nổi bật của mảng numpy, là tốc độ xử lý vượt trội so với mảng (list) của Python. \n",
    "- Nhân tố chính giúp cho việc tính toán trên mảng numpy nhanh, là kỹ thuật *vectorized* - phép tính vector hóa. Thường được sử dụng thông qua *universal function (ufuncs)*."
   ]
  },
  {
   "cell_type": "markdown",
   "id": "86e79160",
   "metadata": {},
   "source": [
    "## a. Ví dụ về: so sánh tốc độ giữa numpy array và Python list.\n",
    "\n",
    "- Trong ví dụ này, ta sẽ tính tổng các phần tử của mảng `temp_arr` bên dưới bằng 2 cách: \n",
    "    + Dùng vòng lặp for của Python.\n",
    "    + Dùng hàm `sum()` của thư viện `numpy`.\n",
    "    \n",
    "- Ở các cell bên dưới, ta dùng câu lệnh `%%time` để đo thời gian thực thi của các cell."
   ]
  },
  {
   "cell_type": "code",
   "execution_count": null,
   "id": "ad6f7e32",
   "metadata": {},
   "outputs": [],
   "source": [
    "temp_arr = np.arange(1, 1000000, dtype=np.int64)"
   ]
  },
  {
   "cell_type": "markdown",
   "id": "f100b4ff",
   "metadata": {},
   "source": [
    "- CÁCH 1: dùng vòng lặp for"
   ]
  },
  {
   "cell_type": "code",
   "execution_count": null,
   "id": "9e4bdba4",
   "metadata": {},
   "outputs": [],
   "source": [
    "%%time\n",
    "\n",
    "temp_sum = 0\n",
    "\n",
    "for value in temp_arr:\n",
    "    temp_sum += value\n",
    "    \n",
    "print(\"Sum is: {}\".format(temp_sum))"
   ]
  },
  {
   "cell_type": "markdown",
   "id": "d97ffe8d",
   "metadata": {},
   "source": [
    "- CÁCH 2: dùng hàm `sum` của thư viện `numpy`"
   ]
  },
  {
   "cell_type": "code",
   "execution_count": null,
   "id": "8fe6290a",
   "metadata": {},
   "outputs": [],
   "source": [
    "%%time\n",
    "\n",
    "temp_sum = temp_arr.sum()\n",
    "\n",
    "print(\"Sum is: {}\".format(temp_sum))"
   ]
  },
  {
   "cell_type": "markdown",
   "id": "3e8907d8",
   "metadata": {},
   "source": [
    "**NHẬN XÉT:** (trên máy của mình), tốc độ của numpy array nhanh gấp 100 lần so với vòng lặp for của Python. "
   ]
  },
  {
   "cell_type": "markdown",
   "id": "efc6c610",
   "metadata": {},
   "source": [
    "## b. Cơ chế broadcasting của numpy\n",
    "\n",
    "- Một cách để tăng tốc khi tính toán đối với mảng numpy, là tận dụng cơ chế broadcasting và vectorized. \n",
    "- Ta xét ví dụ: cộng vào mỗi phần tử trong mảng temp_arr thêm 1. "
   ]
  },
  {
   "cell_type": "code",
   "execution_count": null,
   "id": "11e8c935",
   "metadata": {},
   "outputs": [],
   "source": [
    "temp_arr = np.arange(1, 10)"
   ]
  },
  {
   "cell_type": "code",
   "execution_count": null,
   "id": "5757af65",
   "metadata": {},
   "outputs": [],
   "source": [
    "# Thực hiện cộng thêm 1\n",
    "temp_arr = temp_arr + 1\n",
    "print(temp_arr)"
   ]
  },
  {
   "cell_type": "markdown",
   "id": "a75f54e5",
   "metadata": {},
   "source": [
    "- Tiếp theo, nhiệm vụ của sinh viên: tính nhân đôi của mỗi phần tử trong mảng `temp_arr`. Kết quả được lưu trong mảng `double_temp_arr`"
   ]
  },
  {
   "cell_type": "code",
   "execution_count": null,
   "id": "109f5f29",
   "metadata": {},
   "outputs": [],
   "source": [
    "double_temp_arr = None\n",
    "\n",
    "# YOUR CODE HERE\n",
    "raise NotImplementedError()"
   ]
  },
  {
   "cell_type": "code",
   "execution_count": null,
   "id": "0f23e71b",
   "metadata": {},
   "outputs": [],
   "source": [
    "# TEST\n",
    "assert (double_temp_arr == np.array([4, 6, 8, 10, 12, 14, 16, 18, 20])).all() == True"
   ]
  },
  {
   "cell_type": "markdown",
   "id": "4839e610",
   "metadata": {},
   "source": [
    "# 3. Thống kê cơ bản với numpy\n",
    "\n",
    "- Trong phần này, ta tiếp tục sử dụng mảng `arr` - Mảng mô tả thu nhập của một nhóm người (đơn vị: nghìn USD). Được giới thiệu ở phần 1."
   ]
  },
  {
   "cell_type": "markdown",
   "id": "8fec0b4f",
   "metadata": {},
   "source": [
    "## a. Các giá trị min, max, mean, median\n",
    "\n",
    "- Ta sẽ bắt đầu với các giá trị thống kê cơ bản nhất, bao gồm:\n",
    "    + min\n",
    "    + max\n",
    "    + mean\n",
    "    + median\n",
    "    \n",
    "- Nhiệm vụ của sinh viên: tính các giá trị trên và lưu vào các biến `min_value`, `max_value`, `mean_value`, `median_value`"
   ]
  },
  {
   "cell_type": "code",
   "execution_count": null,
   "id": "8a8be58b",
   "metadata": {},
   "outputs": [],
   "source": [
    "min_value = None\n",
    "max_value = None\n",
    "mean_value = None\n",
    "median_value = None\n",
    "\n",
    "# YOUR CODE HERE\n",
    "raise NotImplementedError()"
   ]
  },
  {
   "cell_type": "code",
   "execution_count": null,
   "id": "43ba5574",
   "metadata": {},
   "outputs": [],
   "source": [
    "# TEST\n",
    "assert min_value == 1\n",
    "assert max_value == 100\n",
    "assert round(mean_value, 1) == 7.3\n",
    "assert median_value == 6.0"
   ]
  },
  {
   "cell_type": "markdown",
   "id": "41121f72",
   "metadata": {},
   "source": [
    "## b. Giá trị lớn hơn (nhỏ hơn) ngưỡng\n",
    "\n",
    "- Trong phần này, mục tiêu của ta là sẽ tìm ra các giá trị trong mảng `arr` lớn hơn giá trị ngưỡng nào đó. \n",
    "- Nhiệm vụ của sinh viên: tìm các giá trị trong mảng `arr` lớn hơn 10. Kết quả lưu vào biến `arr_bigger_than_10`"
   ]
  },
  {
   "cell_type": "code",
   "execution_count": null,
   "id": "9369bf22",
   "metadata": {},
   "outputs": [],
   "source": [
    "arr_bigger_than_10 = None\n",
    "\n",
    "# YOUR CODE HERE\n",
    "raise NotImplementedError()"
   ]
  },
  {
   "cell_type": "code",
   "execution_count": null,
   "id": "a0bd6912",
   "metadata": {},
   "outputs": [],
   "source": [
    "# TEST\n",
    "assert (arr_bigger_than_10 == np.array([100, 49, 41, 40, 25, 21, 21, 19, 19, 18, 18, 16, 15, \\\n",
    "                                    15, 15, 15, 14, 14, 13, 13, 13, 13, 12, 12, 11])).all() == True"
   ]
  },
  {
   "cell_type": "markdown",
   "id": "62d034fa",
   "metadata": {},
   "source": [
    "- Tiếp theo, nhiệm vụ của sinh viên, tìm các giá trị trong mảng arr nhỏ hơn giá trị `mean_value`. Kết quả được lưu vào biến `arr_smaller_than_mean`"
   ]
  },
  {
   "cell_type": "code",
   "execution_count": null,
   "id": "d25e55a9",
   "metadata": {},
   "outputs": [],
   "source": [
    "arr_smaller_than_mean = None\n",
    "\n",
    "# YOUR CODE HERE\n",
    "raise NotImplementedError()"
   ]
  },
  {
   "cell_type": "code",
   "execution_count": null,
   "id": "4b0f964a",
   "metadata": {},
   "outputs": [],
   "source": [
    "# TEST\n",
    "assert (arr_smaller_than_mean == np.array([7, 7, 7, 7, 7, 7, 7, 7, 7, 7, 7, 7, 7, 7, 7, 6, 6, 6, 6, 6, 6, 6,\n",
    "                                       6, 6, 6, 6, 6, 6, 6, 6, 6, 6, 6, 6, 6, 6, 6, 5, 5, 5, 5, 5, 5, 5,\n",
    "                                       5, 5, 5, 5, 5, 5, 5, 5, 5, 5, 4, 4, 4, 4, 4, 4, 4, 4, 4, 4, 4, 4,\n",
    "                                       4, 4, 4, 4, 4, 4, 4, 4, 3, 3, 3, 3, 3, 3, 3, 3, 3, 3, 3, 3, 3, 3,\n",
    "                                       3, 3, 3, 3, 3, 3, 2, 2, 2, 2, 2, 2, 2, 2, 2, 2, 2, 2, 2, 2, 2, 2,\n",
    "                                       2, 1, 1, 1, 1, 1, 1, 1, 1, 1, 1, 1, 1, 1, 1, 1, 1, 1, 1, 1, 1, 1,\n",
    "                                       1])).all() == True"
   ]
  },
  {
   "cell_type": "markdown",
   "id": "7a6aa6b3",
   "metadata": {},
   "source": [
    "## c. Đếm số lượng phần tử có trong mảng\n",
    "\n",
    "- Ta sẽ đếm xem, với mỗi phần tử, xuất hiện bao nhiêu lần trong mảng `arr`. \n",
    "- Ví dụ: {0: 1, 10: 3}. Nghĩa là: trong mảng `arr` có một phần tử có giá trị 0, có 3 phần tử có giá trị 10.\n",
    "\n",
    "\n",
    "- Nhiệm vụ của sinh viên: đếm số lượng phần tử có trong mảng `arr` và lưu vào biến `counter_arr`, với biến `counter_arr` là một dictionary."
   ]
  },
  {
   "cell_type": "code",
   "execution_count": null,
   "id": "4bf2933b",
   "metadata": {},
   "outputs": [],
   "source": [
    "counter_arr = None\n",
    "\n",
    "# YOUR CODE HERE\n",
    "raise NotImplementedError()"
   ]
  },
  {
   "cell_type": "code",
   "execution_count": null,
   "id": "dd0be5d3",
   "metadata": {},
   "outputs": [],
   "source": [
    "# TEST\n",
    "assert counter_arr == {1: 22, 2: 17, 3: 20, 4: 20, 5: 17, 6: 22, 7: 15, 8: 13, 9: 18, 10: 15, \\\n",
    "                       11: 1, 12: 2, 13: 4, 14: 2, 15: 4, 16: 1, 18: 2, 19: 2, 21: 2, 25: 1, 40: 1, 41: 1, 49: 1, 100: 1}"
   ]
  },
  {
   "attachments": {
    "image.png": {
     "image/png": "[encoded data removed]"
    }
   },
   "cell_type": "markdown",
   "id": "862d813e",
   "metadata": {},
   "source": [
    "## d. Biểu diễn dữ liệu\n",
    "\n",
    "- Để có cái nhìn tổng quan hơn và trực quan hơn, ta sẽ biểu diễn thống kê số lượng dữ liệu. \n",
    "- Ta sẽ làm quen với thư viện `matplotlib` (sẽ được giới thiệu kỹ ở những tuần tiếp theo).\n",
    "\n",
    "- Bên dưới, là câu lệnh biểu diễn histogram của dictionary `counter_arr`. Nếu bạn tính đúng `counter_arr`, kết quả sẽ như thế này: \n",
    "![image.png](attachment:image.png)"
   ]
  },
  {
   "cell_type": "code",
   "execution_count": null,
   "id": "9fa2b37d",
   "metadata": {},
   "outputs": [],
   "source": [
    "plt.hist(counter_arr, bins=len(counter_arr))\n",
    "plt.show()"
   ]
  },
  {
   "cell_type": "markdown",
   "id": "81e16bd0",
   "metadata": {},
   "source": [
    "# 4. Giải hệ phương trình với numpy array\n",
    "\n",
    "- Ngoài các phép tính, `numpy` cũng có thể được dùng để giải phương trình/hệ phương trình. "
   ]
  },
  {
   "cell_type": "markdown",
   "id": "5b5be03b",
   "metadata": {},
   "source": [
    "## Giải hệ phương trình \n",
    "\n",
    "- Cho hệ phương trình 2 biến:\n",
    "\n",
    "$x_0 + 2x_1 = 1$\n",
    "\n",
    "$3x_0 + 5x_1 = 2$\n",
    "\n",
    "- Nhiệm vụ của sinh viên: giải hệ phương trình trên, giá trị lưu vào biến `solved_x_1`"
   ]
  },
  {
   "cell_type": "code",
   "execution_count": null,
   "id": "3ad17c93",
   "metadata": {},
   "outputs": [],
   "source": [
    "solved_x_1 = None\n",
    "\n",
    "# YOUR CODE HERE\n",
    "raise NotImplementedError()"
   ]
  },
  {
   "cell_type": "code",
   "execution_count": null,
   "id": "dab5d895",
   "metadata": {},
   "outputs": [],
   "source": [
    "# TEST\n",
    "assert (solved_x_1.round(0) == np.array([-1.,  1.], dtype=solved_x_1.dtype)).all() == True"
   ]
  },
  {
   "cell_type": "markdown",
   "id": "a671784f",
   "metadata": {},
   "source": [
    "## Giải phương trình bậc 2\n",
    "\n",
    "- Cho phương trình bậc 2 \n",
    "\n",
    "$x^2 + 5x + 6 = 0$\n",
    "\n",
    "- Nhiệm vụ của sinh viên: giải hệ phương trình trên, giá trị lưu vào biến `solved_x_2`"
   ]
  },
  {
   "cell_type": "code",
   "execution_count": null,
   "id": "2c2959e0",
   "metadata": {},
   "outputs": [],
   "source": [
    "solved_x_2 = None \n",
    "\n",
    "# YOUR CODE HERE\n",
    "raise NotImplementedError()"
   ]
  },
  {
   "cell_type": "code",
   "execution_count": null,
   "id": "80c57b72",
   "metadata": {},
   "outputs": [],
   "source": [
    "# TEST\n",
    "assert (solved_x_2.round(0) == np.array([-3., -2.])).all() == True"
   ]
  },
  {
   "attachments": {
    "image.png": {
     "image/png": "[encoded data removed]"
    }
   },
   "cell_type": "markdown",
   "id": "1b8133cb",
   "metadata": {},
   "source": [
    "# 5. Lưu ảnh với numpy array\n",
    "\n",
    "- Như mình đã nói ở các tuần trước: về cơ bản, hình ảnh cũng chỉ là mảng 2 chiều (hoặc 3 chiều), với mỗi phần tử là các pixel tương ứng. \n",
    "- Ở trong bài tập này, nhiệm vụ của sinh viên, là tạo ra ảnh mô phỏng cờ của nước Pháp (chỉ là mô phỏng). Với các màu và các giá trị RGB tương ứng gồm:\n",
    "    + Màu xanh dương đậm: (0, 0, 100)\n",
    "    + Màu trắng: (255, 255, 255)\n",
    "    + Màu đỏ: (255, 0, 0)\n",
    "    \n",
    "- Sinh viên tạo mảng có kích thước: dài 300 pixels, rộng 200 pixels. Kết quả được lưu vào biến `image_array`\n",
    "- Kết quả chính xác sẽ là: \n",
    "![image.png](attachment:image.png)"
   ]
  },
  {
   "cell_type": "code",
   "execution_count": null,
   "id": "6251f0df",
   "metadata": {},
   "outputs": [],
   "source": [
    "image_array = None\n",
    "\n",
    "# YOUR CODE HERE\n",
    "raise NotImplementedError()"
   ]
  },
  {
   "cell_type": "code",
   "execution_count": null,
   "id": "9b3a0769",
   "metadata": {},
   "outputs": [],
   "source": [
    "# TEST\n",
    "assert image_array.shape == (200, 300, 3)\n",
    "assert image_array.sum() == 22400000\n",
    "assert (image_array[0, 0, :] == (0, 0, 100)).all() == True\n",
    "assert (image_array[-1, -1, :] == (255, 0, 0)).all() == True"
   ]
  },
  {
   "cell_type": "code",
   "execution_count": null,
   "id": "1c111c33",
   "metadata": {},
   "outputs": [],
   "source": [
    "# Save image to \"image.jpg\" file\n",
    "im = Image.fromarray(image_array)\n",
    "im.save(\"image.jpg\")"
   ]
  },
  {
   "cell_type": "code",
   "execution_count": null,
   "id": "5c2a0a18",
   "metadata": {},
   "outputs": [],
   "source": []
  }
 ],
 "metadata": {
  "kernelspec": {
   "display_name": "Python 3",
   "language": "python",
   "name": "python3"
  },
  "language_info": {
   "codemirror_mode": {
    "name": "ipython",
    "version": 3
   },
   "file_extension": ".py",
   "mimetype": "text/x-python",
   "name": "python",
   "nbconvert_exporter": "python",
   "pygments_lexer": "ipython3",
   "version": "3.7.9"
  }
 },
 "nbformat": 4,
 "nbformat_minor": 5
}
