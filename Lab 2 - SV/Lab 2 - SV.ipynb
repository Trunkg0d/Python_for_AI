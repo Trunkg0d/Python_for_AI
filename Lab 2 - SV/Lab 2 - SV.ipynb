{
 "cells": [
  {
   "cell_type": "markdown",
   "id": "be25548a",
   "metadata": {},
   "source": [
    "# Lab 2 \n",
    "\n",
    "**Bài tập tuần này mục tiêu giúp sinh viên làm quen với môi trường jupyter notebook, bài tập về vòng lặp, danh sách (list) của ngôn ngữ lập trình Python.**\n",
    "\n",
    "Họ tên:\n",
    "\n",
    "MSSV:"
   ]
  },
  {
   "cell_type": "markdown",
   "id": "6da0a76c",
   "metadata": {},
   "source": [
    "&#127802; Sinh viên lưu ý mình sẽ dùng chương trình hỗ trợ chấm bài nên bạn cần phải tuân thủ chính xác qui định mà mình đặt ra, nếu không rõ thì hỏi, chứ không nên tự tiện làm theo ý của cá nhân.\n",
    "\n",
    "**Cách làm bài**\n",
    "\n",
    "Bạn sẽ làm trực tiếp trên file Python notebook này. Đầu tiên, bạn điền họ tên và MSSV vào phần đầu file ở bên trên. Trong file, bạn làm bài ở những chỗ có ghi là:\n",
    "\n",
    "```python\n",
    "# YOUR CODE HERE\n",
    "raise NotImplementedError()\n",
    "```\n",
    "hoặc đối với những phần code không bắt buộc thì là:\n",
    "```python\n",
    "# YOUR CODE HERE (OPTION)\n",
    "```\n",
    "\n",
    "Tất nhiên, khi làm thì bạn xóa dòng `raise NotImplementedError()` đi.\n",
    "Đối những phần yêu cầu code thì thường ở ngay phía dưới sẽ có một (hoặc một số) cell chứa các bộ test để giúp bạn biết đã code đúng hay chưa; nếu chạy cell này không có lỗi gì thì có nghĩa là qua được các bộ test. Trong một số trường hợp, các bộ test có thể sẽ không đầy đủ; nghĩa là, nếu không qua được test thì là code sai, nhưng nếu qua được test thì chưa chắc đã đúng hoàn toàn.\n",
    "\n",
    "Trong khi làm bài, bạn có thể cho in ra màn hình, tạo thêm các cell để test. Nhưng khi nộp bài thì bạn xóa các cell mà bạn tự tạo, xóa hoặc comment các câu lệnh in ra màn hình. Bạn lưu ý <font color=red>không được tự tiện xóa các cell hay sửa code của Thầy</font> (trừ những chỗ được phép sửa như đã nói ở trên).\n",
    "\n",
    "\n",
    "Trong khi làm bài, thường xuyên `Ctrl + S` để lưu lại bài làm của bạn, tránh mất mát thông tin.\n",
    "\n",
    "Bạn có thể thảo luận ý tưởng với bạn khác hoặc từ các nguồn khác, nhưng code và bài làm phải là của bạn, dựa trên sự hiểu thật sự của bạn. Nếu vi phạm thì sẽ bị 0 điểm cho toàn bộ môn học.\n",
    "\n",
    "**Cách nộp bài**\n",
    "\n",
    "Khi chấm bài, đầu tiên mình sẽ chọn `Kernel` - `Restart & Run All` để restart và chạy tất cả các cell trong notebook của bạn; do đó, trước khi nộp bài, bạn nên chạy thử `Kernel` - `Restart & Run All` để đảm bảo mọi chuyện diễn ra đúng như mong đợi.\n",
    "\n",
    "Sau đó, bạn tạo thư mục nộp bài theo cấu trúc sau:\n",
    "- Thư mục `MSSV` (vd, nếu bạn có MSSV là 123 thì bạn đặt tên thư mục là `123`)\n",
    "    - File `Lab 2 - SV.ipynb`\n",
    "- Các bạn nén lại MSSV.zip (*.zip chứ không phải .rar hay gì khác)\n",
    "\n",
    "Cuối cùng, bạn nén thư mục `MSSV` này lại và nộp ở link trên moodle. <font color=red>Bạn lưu ý tuân thủ chính xác qui định nộp bài.</font>"
   ]
  },
  {
   "cell_type": "markdown",
   "id": "dd82d6d3",
   "metadata": {},
   "source": [
    "# 1. Bài tập về vòng lặp (3đ)"
   ]
  },
  {
   "cell_type": "markdown",
   "id": "dfba7fe0",
   "metadata": {},
   "source": [
    "## Bài 1:\n",
    "- Tính tổng từ 1 đến n.\n",
    "- Nhiệm vụ của sinh viên: hoàn thành hàm ```sum_to_n(n)``` bên dưới"
   ]
  },
  {
   "cell_type": "code",
   "execution_count": 1,
   "id": "a02606fe",
   "metadata": {},
   "outputs": [],
   "source": [
    "def sum_to_n(n):\n",
    "    \"\"\"\n",
    "    Function to calculate sum from 1 to n (1 + 2 + ... + n)\n",
    "    \n",
    "    * Parameter:\n",
    "    n -- a number, indicate the last number in the sequence.\n",
    "    \n",
    "    * Return:\n",
    "    sum_result -- a number, indicate the result value\n",
    "    \"\"\"\n",
    "    \n",
    "    sum_result = None\n",
    "    \n",
    "    # YOUR CODE HERE\n",
    "    raise NotImplementedError()\n",
    "    \n",
    "    return sum_result"
   ]
  },
  {
   "cell_type": "code",
   "execution_count": 2,
   "id": "3b71dd4e",
   "metadata": {},
   "outputs": [],
   "source": [
    "# TEST\n",
    "assert sum_to_n(10) == 55"
   ]
  },
  {
   "cell_type": "markdown",
   "id": "cd18e786",
   "metadata": {},
   "source": [
    "## Bài 2\n",
    "- Viết hàm kiểm tra xem, số n có là số nguyên tố hay không?\n",
    "- Nhiệm vụ của sinh viên: hoàn thành hàm ```check_is_prime(n)```. Hàm trả về True nếu n là số nguyên tố và False nếu n không phải là số nguyên tố."
   ]
  },
  {
   "cell_type": "code",
   "execution_count": 3,
   "id": "89dfc68a",
   "metadata": {},
   "outputs": [],
   "source": [
    "def check_is_prime(n):\n",
    "    \"\"\"\n",
    "    Function to check whether n is prime or not\n",
    "    \n",
    "    * Parameters:\n",
    "    n -- a number, indicate input number to check\n",
    "    \n",
    "    * Return: \n",
    "    is_prime -- a boolean True/False respectively.\n",
    "    \"\"\"\n",
    "    \n",
    "    is_prime = None\n",
    "    \n",
    "    # YOUR CODE HERE\n",
    "    raise NotImplementedError()\n",
    "    \n",
    "    return is_prime"
   ]
  },
  {
   "cell_type": "code",
   "execution_count": 4,
   "id": "47b0cf2e",
   "metadata": {},
   "outputs": [],
   "source": [
    "# TEST\n",
    "assert check_is_prime(17) == True\n",
    "assert check_is_prime(4) == False"
   ]
  },
  {
   "cell_type": "markdown",
   "id": "215d2465",
   "metadata": {},
   "source": [
    "## Bài 3\n",
    "- Viết hàm tính số Fibonacci thứ n. Với công thức\n",
    "\n",
    "$$\n",
    "F_0 = 0, F_1 = 1 \\\\\n",
    "và \\\\\n",
    "F_n = F_{n-1} + F_{n-2}\n",
    "$$\n",
    "\n",
    "- Nhiệm vụ của sinh viên: hoàn thành hàm ```fibonacci_number(n)```. **Lưu ý: không dùng đệ quy**"
   ]
  },
  {
   "cell_type": "code",
   "execution_count": 5,
   "id": "8b5ffaef",
   "metadata": {},
   "outputs": [],
   "source": [
    "def fibonacci_number(n):\n",
    "    \"\"\"\n",
    "    Function to calcualte Nth fibonacci number\n",
    "    \n",
    "    * Parameters:\n",
    "    n -- a number, indicate input number\n",
    "    \n",
    "    * Return: \n",
    "    fibo_num -- a number, indicate the fibonacci Nth\n",
    "    \"\"\"\n",
    "    \n",
    "    fibo_num = None\n",
    "    \n",
    "    # YOUR CODE HERE\n",
    "    raise NotImplementedError()\n",
    "    \n",
    "    return fibo_num "
   ]
  },
  {
   "cell_type": "code",
   "execution_count": 6,
   "id": "53b75f83",
   "metadata": {},
   "outputs": [],
   "source": [
    "assert fibonacci_number(2) == 1\n",
    "assert fibonacci_number(30) == 832040"
   ]
  },
  {
   "cell_type": "markdown",
   "id": "303d9c66",
   "metadata": {},
   "source": [
    "# 2. Bài tập về danh sách (list) (5đ)"
   ]
  },
  {
   "cell_type": "markdown",
   "id": "230698d5",
   "metadata": {},
   "source": [
    "## Bài 4\n",
    "- Viết hàm tính tổng của danh sách.\n",
    "- Nhiệm vụ của sinh viên: hoàn thành hàm ```sum_array(arr)```"
   ]
  },
  {
   "cell_type": "code",
   "execution_count": 7,
   "id": "761a62eb",
   "metadata": {},
   "outputs": [],
   "source": [
    "def sum_array(arr):\n",
    "    \"\"\"\n",
    "    Function to compute sum of every element in an array\n",
    "    \n",
    "    * Parameter:\n",
    "    arr -- a python list, indicate an input array\n",
    "    \n",
    "    * Return: \n",
    "    sum_arr -- a number, indicate a sum result\n",
    "    \"\"\"\n",
    "    \n",
    "    sum_arr = None\n",
    "    \n",
    "    # YOUR CODE HERE\n",
    "    raise NotImplementedError()\n",
    "    \n",
    "    return sum_arr"
   ]
  },
  {
   "cell_type": "code",
   "execution_count": 8,
   "id": "301ae503",
   "metadata": {},
   "outputs": [],
   "source": [
    "# TEST\n",
    "arr = [1, 2, 3, 4, 5, 6, 7, 8, 9, 10]\n",
    "assert sum_array(arr) == 55"
   ]
  },
  {
   "cell_type": "markdown",
   "id": "b2abd596",
   "metadata": {},
   "source": [
    "## Bài 5\n",
    "- Viết hàm tìm số lớn thứ hai trong danh sách\n",
    "- Nhiệm vụ của sinh viên: hoàn thành hàm ```find_second_largest(arr)``` "
   ]
  },
  {
   "cell_type": "code",
   "execution_count": 9,
   "id": "f09941a0",
   "metadata": {},
   "outputs": [],
   "source": [
    "def find_second_largest(arr):\n",
    "    \"\"\"\n",
    "    Function to find second largest number in a list\n",
    "    \n",
    "    * Parameter:\n",
    "    arr -- a python list, indicate an input array\n",
    "    \n",
    "    * Return: \n",
    "    second_largest -- a number, indicate a sum result\n",
    "    \"\"\"\n",
    "    \n",
    "    second_largest = None\n",
    "    \n",
    "    # YOUR CODE HERE\n",
    "    raise NotImplementedError()\n",
    "    \n",
    "    return second_largest"
   ]
  },
  {
   "cell_type": "code",
   "execution_count": 10,
   "id": "e97a05b6",
   "metadata": {},
   "outputs": [],
   "source": [
    "# TEST \n",
    "arr = [1, 2, 3, 4, 5, 6, 7, 8, 9, 10]\n",
    "assert find_second_largest(arr) == 9"
   ]
  },
  {
   "cell_type": "markdown",
   "id": "9e7b31ab",
   "metadata": {},
   "source": [
    "## Bài 6\n",
    "- Viết hàm đếm các giá trị duy nhất bên trong danh sách. \n",
    "- Ví dụ: mảng arr = [1, 2, 3, 3, 4]. Kết quả sẽ là 4, do danh sách có các giá trị duy nhất là {1, 2, 3, 4}\n",
    "- Nhiệm vụ của sinh viên, hoàn thành hàm ```count_unique_value(arr)```."
   ]
  },
  {
   "cell_type": "code",
   "execution_count": 11,
   "id": "8264b37c",
   "metadata": {},
   "outputs": [],
   "source": [
    "def count_unique_value(arr):\n",
    "    \"\"\"\n",
    "    Function to count number of unique value in a list\n",
    "    \n",
    "    * Parameter:\n",
    "    arr -- a python list, indicate an input array\n",
    "    \n",
    "    * Return: \n",
    "    num_unique_value -- a number, indicate the number of unique value\n",
    "    \"\"\"\n",
    "    \n",
    "    num_unique_value = None\n",
    "    \n",
    "    # YOUR CODE HERE\n",
    "    raise NotImplementedError()\n",
    "    \n",
    "    return num_unique_value"
   ]
  },
  {
   "cell_type": "code",
   "execution_count": 12,
   "id": "aae60cf3",
   "metadata": {},
   "outputs": [],
   "source": [
    "# TEST\n",
    "arr = [1, 2, 3, 3, 4]\n",
    "assert count_unique_value(arr) == 4"
   ]
  },
  {
   "cell_type": "markdown",
   "id": "911473f4",
   "metadata": {},
   "source": [
    "## Bài 7\n",
    "- Viết hàm sắp xếp các phần tử trong danh sách. \n",
    "- Sinh viên có thể sử dụng bất kỳ thuật toán sắp xếp nào. Không dùng thư viện hỗ trợ.\n",
    "- Nhiệm vụ của sinh viên: hoàn thành hàm ```my_sort(arr)``` bên dưới."
   ]
  },
  {
   "cell_type": "code",
   "execution_count": 13,
   "id": "5114f49a",
   "metadata": {},
   "outputs": [],
   "source": [
    "def my_sort(arr):\n",
    "    \"\"\"\n",
    "    Function to sort an array\n",
    "    \n",
    "    * Parameters:\n",
    "    arr -- a python list, indicate an input array\n",
    "    \n",
    "    * Return:\n",
    "    sorted_arr -- a python list, indicate an sorted array\n",
    "    \"\"\"\n",
    "    \n",
    "    sorted_arr = None\n",
    "    \n",
    "    # YOUR CODE HERE\n",
    "    raise NotImplementedError()\n",
    "    \n",
    "    return sorted_arr"
   ]
  },
  {
   "cell_type": "code",
   "execution_count": 14,
   "id": "f9ffb558",
   "metadata": {},
   "outputs": [],
   "source": [
    "# TEST \n",
    "arr = [1, 4, 2, 3, 5, 6, 10, 8, 7, 9]\n",
    "assert my_sort(arr) == [1, 2, 3, 4, 5, 6, 7, 8, 9, 10]"
   ]
  },
  {
   "cell_type": "markdown",
   "id": "00f1e9be",
   "metadata": {},
   "source": [
    "## Bài 8\n",
    "- Viết hàm xóa các phần tử bị trùng trong danh sách. \n",
    "- Ví dụ: danh sách arr = [1, 1, 2, 2, 2, 3]. Kết quả mong muốn sẽ là [1, 2, 3]\n",
    "- Nhiệm vụ của sinh viên: hoàn thành hàm ```delete_duplicate(arr)```"
   ]
  },
  {
   "cell_type": "code",
   "execution_count": 15,
   "id": "a7daa744",
   "metadata": {},
   "outputs": [],
   "source": [
    "def delete_duplicate(arr):\n",
    "    \"\"\"\n",
    "    Function to delete duplicate element in an array.\n",
    "    \n",
    "    * Parameters:\n",
    "    arr -- a python list, indicate an input array\n",
    "    \n",
    "    * Return:\n",
    "    non_duplicate_arr -- a python list, indicate a result array, which do not have any duplicate element\n",
    "    \"\"\"\n",
    "    \n",
    "    non_duplicate_arr = None\n",
    "    \n",
    "    # YOUR CODE HERE\n",
    "    raise NotImplementedError()\n",
    "    \n",
    "    return non_duplicate_arr"
   ]
  },
  {
   "cell_type": "code",
   "execution_count": 16,
   "id": "1ae5362c",
   "metadata": {},
   "outputs": [],
   "source": [
    "# TEST \n",
    "arr = [1, 1, 2, 2, 2, 3]\n",
    "assert delete_duplicate(arr) == [1, 2, 3]"
   ]
  },
  {
   "cell_type": "markdown",
   "id": "6b606128",
   "metadata": {},
   "source": [
    "# 3. Một chút về numpy (2đ)\n",
    "\n",
    "- Trong các lĩnh vực tính toán nói chung và trong lĩnh vực Khoa học dữ liệu/Trí tuệ nhân tạo, có lẽ thư viện numpy là một trong các thư viện có sức ảnh hưởng lớn nhất. \n",
    "\n",
    "- Trang chủ của thư viện numpy: <br>\n",
    "https://numpy.org/\n",
    "\n",
    "- Các tài liệu tham khảo: <br>\n",
    "https://www.w3schools.com/python/numpy/numpy_intro.asp <br>\n",
    "https://cs231n.github.io/python-numpy-tutorial/\n",
    "\n",
    "- Thông qua bài tập này, mình muốn giới thiệu cho các bạn sơ bộ về thư viện numpy. **Lưu ý: bài tập ở đây chỉ mang tính chất làm quen, các bạn tự tham khảo và học thêm về numpy nhé.**"
   ]
  },
  {
   "cell_type": "code",
   "execution_count": 17,
   "id": "31f8df82",
   "metadata": {},
   "outputs": [],
   "source": [
    "import numpy as np"
   ]
  },
  {
   "cell_type": "markdown",
   "id": "c7dc797d",
   "metadata": {},
   "source": [
    "## Bài 9 \n",
    "- Viết hàm tính tổng các phần tử trong mảng numpy array.\n",
    "- Nhiệm vụ của sinh viên: hoàn thành hàm ```sum_array_numpy(arr)```"
   ]
  },
  {
   "cell_type": "code",
   "execution_count": 18,
   "id": "fea61449",
   "metadata": {},
   "outputs": [],
   "source": [
    "def sum_array_numpy(arr):\n",
    "    \"\"\"\n",
    "    Function to compute sum of every element in a numpy array\n",
    "    \n",
    "    * Parameter:\n",
    "    arr -- a 1D numpy array, indicate an input array\n",
    "    \n",
    "    * Return: \n",
    "    sum_arr -- a number, indicate a sum result\n",
    "    \"\"\"\n",
    "    \n",
    "    sum_arr = None\n",
    "    \n",
    "    # YOUR CODE HERE\n",
    "    raise NotImplementedError()\n",
    "    \n",
    "    return sum_arr"
   ]
  },
  {
   "cell_type": "code",
   "execution_count": 19,
   "id": "0289acd2",
   "metadata": {},
   "outputs": [],
   "source": [
    "# TEST\n",
    "arr = np.array([1, 2, 3, 4, 5, 6, 7, 8, 9, 10])\n",
    "assert sum_array_numpy(arr) == 55"
   ]
  },
  {
   "cell_type": "markdown",
   "id": "7c2b923d",
   "metadata": {},
   "source": [
    "## Bài 10\n",
    "- Nhập vào hai ma trận có cùng kích thước. Viết hàm tính tổng của hai ma trận.\n",
    "- Nhiệm vụ của sinh viên: hoàn thành hàm ```sum_matrix(matrix_1, matrix_2)```"
   ]
  },
  {
   "cell_type": "code",
   "execution_count": 20,
   "id": "834c752d",
   "metadata": {},
   "outputs": [],
   "source": [
    "def sum_matrix(matrix_1, matrix_2):\n",
    "    \"\"\"\n",
    "    Function to compute the sum of two matrix\n",
    "    \n",
    "    * Parameters:\n",
    "    matrix_1 -- a 2D numpy array, indicate the first matrix\n",
    "    matrix_2 -- a 2D numpy array, indicate the second matrix\n",
    "    \n",
    "    * Return:\n",
    "    sum_matrix -- a 2D numpy array, indicate the result matrix of sum operation\n",
    "    \"\"\"\n",
    "    \n",
    "    sum_matrix = None\n",
    "    \n",
    "    # YOUR CODE HERE\n",
    "    raise NotImplementedError()\n",
    "    \n",
    "    return sum_matrix"
   ]
  },
  {
   "cell_type": "code",
   "execution_count": 21,
   "id": "ec17abed",
   "metadata": {},
   "outputs": [],
   "source": [
    "# TEST\n",
    "matrix_1 = np.array([[1, 3],\n",
    "                    [1, 0],\n",
    "                    [1, 2]])\n",
    "\n",
    "matrix_2 = np.array([[0, 0],\n",
    "                    [7, 5],\n",
    "                    [2, 1]])\n",
    "\n",
    "true_sum_matrix = np.array([[1, 3],\n",
    "                            [8, 5],\n",
    "                            [3, 3]])\n",
    "\n",
    "assert (sum_matrix(matrix_1, matrix_2) == true_sum_matrix).all() == True"
   ]
  }
 ],
 "metadata": {
  "kernelspec": {
   "display_name": "Python 3",
   "language": "python",
   "name": "python3"
  },
  "language_info": {
   "codemirror_mode": {
    "name": "ipython",
    "version": 3
   },
   "file_extension": ".py",
   "mimetype": "text/x-python",
   "name": "python",
   "nbconvert_exporter": "python",
   "pygments_lexer": "ipython3",
   "version": "3.7.9"
  }
 },
 "nbformat": 4,
 "nbformat_minor": 5
}
