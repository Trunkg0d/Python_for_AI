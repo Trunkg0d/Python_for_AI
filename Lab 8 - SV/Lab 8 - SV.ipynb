{
 "cells": [
  {
   "cell_type": "markdown",
   "id": "ebbd9643",
   "metadata": {},
   "source": [
    "# LAB 7 - PANDAS (2)\n",
    "\n",
    "Bài tập rèn luyện khả năng sử dụng thư viện `pandas` của ngôn ngữ lập trình `Python`\n",
    "\n",
    "Họ tên:\n",
    "\n",
    "MSSV:"
   ]
  },
  {
   "cell_type": "markdown",
   "id": "be57218d",
   "metadata": {},
   "source": [
    "&#127802; Sinh viên lưu ý mình sẽ dùng chương trình hỗ trợ chấm bài nên bạn cần phải tuân thủ chính xác qui định mà mình đặt ra, nếu không rõ thì hỏi, chứ không nên tự tiện làm theo ý của cá nhân.\n",
    "\n",
    "**Cách làm bài**\n",
    "\n",
    "Bạn sẽ làm trực tiếp trên file Python notebook này. Đầu tiên, bạn điền họ tên và MSSV vào phần đầu file ở bên trên. Trong file, bạn làm bài ở những chỗ có ghi là:\n",
    "\n",
    "```python\n",
    "# YOUR CODE HERE\n",
    "raise NotImplementedError()\n",
    "```\n",
    "hoặc đối với những phần code không bắt buộc thì là:\n",
    "```python\n",
    "# YOUR CODE HERE (OPTION)\n",
    "```\n",
    "\n",
    "Tất nhiên, khi làm thì bạn xóa dòng `raise NotImplementedError()` đi.\n",
    "Đối những phần yêu cầu code thì thường ở ngay phía dưới sẽ có một (hoặc một số) cell chứa các bộ test để giúp bạn biết đã code đúng hay chưa; nếu chạy cell này không có lỗi gì thì có nghĩa là qua được các bộ test. Trong một số trường hợp, các bộ test có thể sẽ không đầy đủ; nghĩa là, nếu không qua được test thì là code sai, nhưng nếu qua được test thì chưa chắc đã đúng hoàn toàn.\n",
    "\n",
    "Trong khi làm bài, bạn có thể cho in ra màn hình, tạo thêm các cell để test. Nhưng khi nộp bài thì bạn xóa các cell mà bạn tự tạo, xóa hoặc comment các câu lệnh in ra màn hình. Bạn lưu ý <font color=red>không được tự tiện xóa các cell hay sửa code của Thầy</font> (trừ những chỗ được phép sửa như đã nói ở trên).\n",
    "\n",
    "\n",
    "Trong khi làm bài, thường xuyên `Ctrl + S` để lưu lại bài làm của bạn, tránh mất mát thông tin.\n",
    "\n",
    "Bạn có thể thảo luận ý tưởng với bạn khác hoặc từ các nguồn khác, nhưng code và bài làm phải là của bạn, dựa trên sự hiểu thật sự của bạn. Nếu vi phạm thì sẽ bị 0 điểm cho toàn bộ môn học.\n",
    "\n",
    "**Cách nộp bài**\n",
    "\n",
    "Khi chấm bài, đầu tiên mình sẽ chọn `Kernel` - `Restart & Run All` để restart và chạy tất cả các cell trong notebook của bạn; do đó, trước khi nộp bài, bạn nên chạy thử `Kernel` - `Restart & Run All` để đảm bảo mọi chuyện diễn ra đúng như mong đợi.\n",
    "\n",
    "Sau đó, bạn tạo thư mục nộp bài theo cấu trúc sau:\n",
    "- Thư mục `MSSV` (vd, nếu bạn có MSSV là 123 thì bạn đặt tên thư mục là `123`)\n",
    "    - File `Lab 8 - SV.ipynb`\n",
    "- Các bạn nén lại MSSV.zip (*.zip chứ không phải .rar hay gì khác)\n",
    "\n",
    "Cuối cùng, bạn nén thư mục `MSSV` này lại và nộp ở link trên moodle. <font color=red>Bạn lưu ý tuân thủ chính xác qui định nộp bài.</font>"
   ]
  },
  {
   "cell_type": "code",
   "execution_count": null,
   "id": "96730928",
   "metadata": {},
   "outputs": [],
   "source": [
    "import os\n",
    "import pandas as pd\n",
    "import numpy as np\n",
    "import matplotlib.pyplot as plt\n",
    "%matplotlib inline\n",
    "# YOUR CODE HERE (OPTION)"
   ]
  },
  {
   "cell_type": "markdown",
   "id": "b982be41",
   "metadata": {},
   "source": [
    "Dữ liệu được lấy từ nguồn:\n",
    " \n",
    "https://www.kaggle.com/c/titanic"
   ]
  },
  {
   "cell_type": "markdown",
   "id": "2c706573",
   "metadata": {},
   "source": [
    "## Đọc dữ liệu\n",
    "\n",
    "- Đầu tiên, bạn đọc file `titanic.csv` và kiểm trang xem có bao nhiêu dòng bao nhiêu cột. \n",
    "- Đọc file `titanic.csv` và lưu vào dataframe có tên là `df`.\n",
    "- Số dòng và số cột lần lượt được lưu vào biến `n_rows` và `n_cols`"
   ]
  },
  {
   "cell_type": "code",
   "execution_count": null,
   "id": "b98e703b",
   "metadata": {},
   "outputs": [],
   "source": [
    "# YOUR CODE HERE\n",
    "raise NotImplementedError()"
   ]
  },
  {
   "cell_type": "code",
   "execution_count": null,
   "id": "5fc017f1",
   "metadata": {
    "deletable": false,
    "editable": false
   },
   "outputs": [],
   "source": [
    "# TEST\n",
    "assert n_rows == 891\n",
    "assert n_cols == 12"
   ]
  },
  {
   "cell_type": "markdown",
   "id": "39942376",
   "metadata": {},
   "source": [
    "Ta có thể dùng lệnh `df.head()` để xem 5 dòng đầu tiên của dữ liệu"
   ]
  },
  {
   "cell_type": "code",
   "execution_count": null,
   "id": "cad4a82e",
   "metadata": {
    "scrolled": true
   },
   "outputs": [],
   "source": [
    "df.head()"
   ]
  },
  {
   "cell_type": "markdown",
   "id": "0c14ef2b",
   "metadata": {},
   "source": [
    "- Tiếp theo, nhiệm vụ của sinh viên là đọc tài liệu và diễn giải bằng **tiếng Việt** ý nghĩa của mỗi cột dữ liệu?"
   ]
  },
  {
   "cell_type": "markdown",
   "id": "d4bae51a",
   "metadata": {},
   "source": [
    "YOUR ANSWER HERE"
   ]
  },
  {
   "cell_type": "markdown",
   "id": "44e14749",
   "metadata": {},
   "source": [
    "## Dữ liệu có các dòng bị trùng lặp không?\n",
    "\n",
    "- Bạn sẽ kiểm tra và lưu kết quả vào biến `ave_duplicated_rows` Biến này sẽ có giá trị True nếu dữ liệu có các dòng bị lặp và có giá trị False nếu ngược."
   ]
  },
  {
   "cell_type": "code",
   "execution_count": null,
   "id": "8c3843c6",
   "metadata": {},
   "outputs": [],
   "source": [
    "have_duplicated_rows = None\n",
    "\n",
    "# YOUR CODE HERE\n",
    "raise NotImplementedError()"
   ]
  },
  {
   "cell_type": "code",
   "execution_count": null,
   "id": "37daf94a",
   "metadata": {
    "deletable": false,
    "editable": false
   },
   "outputs": [],
   "source": [
    "# TEST\n",
    "assert have_duplicated_rows == False"
   ]
  },
  {
   "cell_type": "markdown",
   "id": "e011ea75",
   "metadata": {},
   "source": [
    "# Có bao nhiêu người sống - tử nạn trong cuộc đắm tàu titanic?\n",
    "\n",
    "- Sinh viên sẽ tính toán việc này dựa vào cột `Survived`. Nếu 1 nghĩa là người đó còn sống, 0 nghĩa là tử nạng. Kết quả được lưu vào biến `num_alive` và `num_pass_away`"
   ]
  },
  {
   "cell_type": "code",
   "execution_count": null,
   "id": "0156d08a",
   "metadata": {},
   "outputs": [],
   "source": [
    "num_alive = None\n",
    "num_pass_away = None\n",
    "\n",
    "# YOUR CODE HERE\n",
    "raise NotImplementedError()"
   ]
  },
  {
   "cell_type": "code",
   "execution_count": null,
   "id": "de4bf6ae",
   "metadata": {
    "deletable": false,
    "editable": false
   },
   "outputs": [],
   "source": [
    "# TEST\n",
    "assert num_alive == 342\n",
    "assert num_pass_away == 549"
   ]
  },
  {
   "cell_type": "markdown",
   "id": "dc7c92dc",
   "metadata": {},
   "source": [
    "Tiếp theo, ta sẽ biểu diễn biểu đồ cột (bar chart), thể hiện hai biến `num_alive` và `num_pass_away`"
   ]
  },
  {
   "cell_type": "code",
   "execution_count": null,
   "id": "eb8fc9ba",
   "metadata": {
    "scrolled": true
   },
   "outputs": [],
   "source": [
    "plt.bar(x = ['alive', 'pass away'], height=[num_alive, num_pass_away])"
   ]
  },
  {
   "cell_type": "markdown",
   "id": "04f1ce8c",
   "metadata": {},
   "source": [
    "# Xử lý thông tin tuổi bị sai lệch"
   ]
  },
  {
   "cell_type": "markdown",
   "id": "7e6e911f",
   "metadata": {},
   "source": [
    "- Đầu tiên, ta sẽ quan sát xem trên tàu người có số tuổi lớn nhất là bao nhiêu và nhỏ tuổi nhất là bao nhiêu. Kết quả được lưu vào biến `max_age` và `min_age`"
   ]
  },
  {
   "cell_type": "code",
   "execution_count": null,
   "id": "1d9b2e1f",
   "metadata": {},
   "outputs": [],
   "source": [
    "max_age = None\n",
    "min_age = None\n",
    "\n",
    "# YOUR CODE HERE\n",
    "raise NotImplementedError()"
   ]
  },
  {
   "cell_type": "code",
   "execution_count": null,
   "id": "5f703512",
   "metadata": {
    "deletable": false,
    "editable": false
   },
   "outputs": [],
   "source": [
    "# TEST \n",
    "assert max_age == 80.0\n",
    "assert min_age == 0.42"
   ]
  },
  {
   "cell_type": "markdown",
   "id": "6dc58549",
   "metadata": {},
   "source": [
    "**Có vẻ không ổn? Tuổi mà lại 0.42?**"
   ]
  },
  {
   "cell_type": "markdown",
   "id": "c7025897",
   "metadata": {},
   "source": [
    "- Ta trích xuất ra xem có bao nhiêu người có tuổi trong khoảng từ (0, 1) - không tính dấu bằng. Kết quả được lưu vào biến `incorrect_age`, đây là một DataFrame."
   ]
  },
  {
   "cell_type": "code",
   "execution_count": null,
   "id": "0c4ac1a5",
   "metadata": {},
   "outputs": [],
   "source": [
    "incorrect_age = None\n",
    "\n",
    "# YOUR CODE HERE\n",
    "raise NotImplementedError()"
   ]
  },
  {
   "cell_type": "code",
   "execution_count": null,
   "id": "9e2cf407",
   "metadata": {},
   "outputs": [],
   "source": [
    "incorrect_age"
   ]
  },
  {
   "cell_type": "code",
   "execution_count": null,
   "id": "ae78ab7c",
   "metadata": {
    "deletable": false,
    "editable": false
   },
   "outputs": [],
   "source": [
    "# TEST\n",
    "assert len(incorrect_age) == 7"
   ]
  },
  {
   "cell_type": "markdown",
   "id": "f95a8862",
   "metadata": {},
   "source": [
    "### Chỉnh sửa tuổi sai\n",
    "- Tùy vào tình hình thực tế, ta sẽ có nhiều cách xử lý khác nhau. \n",
    "- Ở đây ta nghi ngờ rằng tuổi bị nhập thừa số 0. Ví dụ: tuổi thực tế là 42 nhưng lại nhầm thành 0.42\n",
    "- Do đó, ta sẽ xử lý bằng cách bỏ `0.` ở đầu.\n",
    "\n",
    "- Nhiệm vụ của sinh viên, chỉnh sửa và cập nhật lại `df`"
   ]
  },
  {
   "cell_type": "code",
   "execution_count": null,
   "id": "102c59bf",
   "metadata": {},
   "outputs": [],
   "source": [
    "# YOUR CODE HERE\n",
    "raise NotImplementedError()"
   ]
  },
  {
   "cell_type": "code",
   "execution_count": null,
   "id": "06476592",
   "metadata": {
    "deletable": false,
    "editable": false
   },
   "outputs": [],
   "source": [
    "# TEST \n",
    "assert df['Age'].max() == 92.0\n",
    "assert df['Age'].min() == 1.0"
   ]
  },
  {
   "cell_type": "markdown",
   "id": "413b6d3a",
   "metadata": {},
   "source": [
    "# Điền vào giá trị tuổi bị thiếu\n",
    "\n",
    "Đầu tiên, ta sẽ kiểm tra xem cột tuổi có bao nhiêu giá trị bị thiếu? Kết quả được lưu vào biến `num_missing_age`"
   ]
  },
  {
   "cell_type": "code",
   "execution_count": null,
   "id": "99f61601",
   "metadata": {},
   "outputs": [],
   "source": [
    "num_missing_age = None\n",
    "\n",
    "# YOUR CODE HERE\n",
    "raise NotImplementedError()"
   ]
  },
  {
   "cell_type": "code",
   "execution_count": null,
   "id": "ddd95c5b",
   "metadata": {
    "deletable": false,
    "editable": false
   },
   "outputs": [],
   "source": [
    "# TEST\n",
    "assert num_missing_age == 177"
   ]
  },
  {
   "cell_type": "markdown",
   "id": "04b6acab",
   "metadata": {},
   "source": [
    "- Có 177 điểm dữ liệu bị thiếu. \n",
    "- Ở đây, ta sẽ xử lý bằng cách điền vào đó giá trị trung bình của cột tuổi.\n",
    "- Trước tiên, ta tính tuổi trung bình và lưu vào biến `average_age`, đây là biến kiểu int."
   ]
  },
  {
   "cell_type": "code",
   "execution_count": null,
   "id": "89609d4b",
   "metadata": {},
   "outputs": [],
   "source": [
    "average_age = None\n",
    "\n",
    "# YOUR CODE HERE\n",
    "raise NotImplementedError()"
   ]
  },
  {
   "cell_type": "code",
   "execution_count": null,
   "id": "2bc26657",
   "metadata": {
    "deletable": false,
    "editable": false
   },
   "outputs": [],
   "source": [
    "# TEST\n",
    "assert average_age == 30"
   ]
  },
  {
   "cell_type": "markdown",
   "id": "a2e91e2c",
   "metadata": {},
   "source": [
    "- Ta thực hiện điền vào các cột bị thiếu. Gợi ý: sinh viên có thể tham khảo hàm `.fillna`\n",
    "\n",
    "- Nhớ dùng câu lệnh `inplace=True` - sinh viên có thể hỏi mình phần `inplace` này."
   ]
  },
  {
   "cell_type": "code",
   "execution_count": null,
   "id": "4cf291e7",
   "metadata": {},
   "outputs": [],
   "source": [
    "# YOUR CODE HERE\n",
    "raise NotImplementedError()"
   ]
  },
  {
   "cell_type": "code",
   "execution_count": null,
   "id": "bc943d6d",
   "metadata": {},
   "outputs": [],
   "source": [
    "# TEST \n",
    "assert df['Age'].isna().sum() == 0"
   ]
  },
  {
   "cell_type": "markdown",
   "id": "d396a9d3",
   "metadata": {},
   "source": [
    "# Mối tương quan giữa các biến\n",
    "\n",
    "- Ở đây ta xem xét, hai biến Plass và sống sót (Survived) có mối liên hệ gì với nhau hay không."
   ]
  },
  {
   "cell_type": "markdown",
   "id": "c37de87c",
   "metadata": {},
   "source": [
    "- Đầu tiên ta thống kê xem, những người sống sót (survived = 1) với mỗi Pclass có số lượng là bao nhiêu.\n",
    "- Kết quả được lưu vào biến `pclass_of_alive`, đây là một dictionary"
   ]
  },
  {
   "cell_type": "code",
   "execution_count": null,
   "id": "aa377abb",
   "metadata": {
    "scrolled": true
   },
   "outputs": [],
   "source": [
    "pclass_of_alive = None\n",
    "\n",
    "# YOUR CODE HERE\n",
    "raise NotImplementedError()"
   ]
  },
  {
   "cell_type": "code",
   "execution_count": null,
   "id": "94fad429",
   "metadata": {
    "deletable": false,
    "editable": false
   },
   "outputs": [],
   "source": [
    "# TEST\n",
    "assert pclass_of_alive == {1: 136, 3: 119, 2: 87}"
   ]
  },
  {
   "cell_type": "markdown",
   "id": "16bd2d58",
   "metadata": {},
   "source": [
    "- Tương tự như trên, nhưng là dối với những người tử nạn. Giá trị được lưu vào biến `pclass_of_passaway`"
   ]
  },
  {
   "cell_type": "code",
   "execution_count": null,
   "id": "baaf7790",
   "metadata": {},
   "outputs": [],
   "source": [
    "pclass_of_passaway = None\n",
    "\n",
    "# YOUR CODE HERE\n",
    "raise NotImplementedError()"
   ]
  },
  {
   "cell_type": "code",
   "execution_count": null,
   "id": "a15581f2",
   "metadata": {
    "deletable": false,
    "editable": false
   },
   "outputs": [],
   "source": [
    "# TEST \n",
    "assert pclass_of_passaway == {3: 372, 2: 97, 1: 80}"
   ]
  },
  {
   "attachments": {
    "image.png": {
     "image/png": "[encoded data removed]"
    }
   },
   "cell_type": "markdown",
   "id": "8ad5d13f",
   "metadata": {},
   "source": [
    "Phần biểu diễn, mình sẽ giúp các bạn\n",
    "\n",
    "Nếu chính xác, hình của các bạn sẽ như thế này\n",
    "![image.png](attachment:image.png)\n"
   ]
  },
  {
   "cell_type": "code",
   "execution_count": null,
   "id": "9d0d7935",
   "metadata": {
    "scrolled": true
   },
   "outputs": [],
   "source": [
    "plt.title(\"Pclass distribution\")\n",
    "plt.bar(np.array(list(pclass_of_alive.keys())) - 0.05, pclass_of_alive.values(), label = 'alive')\n",
    "plt.bar(np.array(list(pclass_of_passaway.keys())) + 0.05, pclass_of_passaway.values(), label = 'pass away')\n",
    "plt.legend()"
   ]
  },
  {
   "cell_type": "markdown",
   "id": "688127f5",
   "metadata": {},
   "source": [
    "- Có vẻ những người ở khoang hạng nhất có cơ hội sống cao hơn. Những người ở khoang hạng 3 có vẻ có cơ hội sống rất thấp :))) "
   ]
  },
  {
   "cell_type": "code",
   "execution_count": null,
   "id": "ecd31202",
   "metadata": {},
   "outputs": [],
   "source": []
  }
 ],
 "metadata": {
  "kernelspec": {
   "display_name": "Python 3",
   "language": "python",
   "name": "python3"
  },
  "language_info": {
   "codemirror_mode": {
    "name": "ipython",
    "version": 3
   },
   "file_extension": ".py",
   "mimetype": "text/x-python",
   "name": "python",
   "nbconvert_exporter": "python",
   "pygments_lexer": "ipython3",
   "version": "3.7.9"
  }
 },
 "nbformat": 4,
 "nbformat_minor": 5
}
