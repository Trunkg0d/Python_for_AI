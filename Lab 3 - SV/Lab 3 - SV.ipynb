{
 "cells": [
  {
   "cell_type": "markdown",
   "id": "19ee61e0",
   "metadata": {},
   "source": [
    "# Lab 3 \n",
    "\n",
    "**Bài tập tuần này mục tiêu giúp sinh viên rèn luyện các bài tập của ngôn ngữ lập trình Python.**\n",
    "\n",
    "Họ tên:\n",
    "\n",
    "MSSV:"
   ]
  },
  {
   "cell_type": "markdown",
   "id": "f5448ce1",
   "metadata": {},
   "source": [
    "&#127802; Sinh viên lưu ý mình sẽ dùng chương trình hỗ trợ chấm bài nên bạn cần phải tuân thủ chính xác qui định mà mình đặt ra, nếu không rõ thì hỏi, chứ không nên tự tiện làm theo ý của cá nhân.\n",
    "\n",
    "**Cách làm bài**\n",
    "\n",
    "Bạn sẽ làm trực tiếp trên file Python notebook này. Đầu tiên, bạn điền họ tên và MSSV vào phần đầu file ở bên trên. Trong file, bạn làm bài ở những chỗ có ghi là:\n",
    "\n",
    "```python\n",
    "# YOUR CODE HERE\n",
    "raise NotImplementedError()\n",
    "```\n",
    "hoặc đối với những phần code không bắt buộc thì là:\n",
    "```python\n",
    "# YOUR CODE HERE (OPTION)\n",
    "```\n",
    "\n",
    "Tất nhiên, khi làm thì bạn xóa dòng `raise NotImplementedError()` đi.\n",
    "Đối những phần yêu cầu code thì thường ở ngay phía dưới sẽ có một (hoặc một số) cell chứa các bộ test để giúp bạn biết đã code đúng hay chưa; nếu chạy cell này không có lỗi gì thì có nghĩa là qua được các bộ test. Trong một số trường hợp, các bộ test có thể sẽ không đầy đủ; nghĩa là, nếu không qua được test thì là code sai, nhưng nếu qua được test thì chưa chắc đã đúng hoàn toàn.\n",
    "\n",
    "Trong khi làm bài, bạn có thể cho in ra màn hình, tạo thêm các cell để test. Nhưng khi nộp bài thì bạn xóa các cell mà bạn tự tạo, xóa hoặc comment các câu lệnh in ra màn hình. Bạn lưu ý <font color=red>không được tự tiện xóa các cell hay sửa code của Thầy</font> (trừ những chỗ được phép sửa như đã nói ở trên).\n",
    "\n",
    "\n",
    "Trong khi làm bài, thường xuyên `Ctrl + S` để lưu lại bài làm của bạn, tránh mất mát thông tin.\n",
    "\n",
    "Bạn có thể thảo luận ý tưởng với bạn khác hoặc từ các nguồn khác, nhưng code và bài làm phải là của bạn, dựa trên sự hiểu thật sự của bạn. Nếu vi phạm thì sẽ bị 0 điểm cho toàn bộ môn học.\n",
    "\n",
    "**Cách nộp bài**\n",
    "\n",
    "Khi chấm bài, đầu tiên mình sẽ chọn `Kernel` - `Restart & Run All` để restart và chạy tất cả các cell trong notebook của bạn; do đó, trước khi nộp bài, bạn nên chạy thử `Kernel` - `Restart & Run All` để đảm bảo mọi chuyện diễn ra đúng như mong đợi.\n",
    "\n",
    "Sau đó, bạn tạo thư mục nộp bài theo cấu trúc sau:\n",
    "- Thư mục `MSSV` (vd, nếu bạn có MSSV là 123 thì bạn đặt tên thư mục là `123`)\n",
    "    - File `Lab 3 - SV.ipynb`\n",
    "- Các bạn nén lại MSSV.zip (*.zip chứ không phải .rar hay gì khác)\n",
    "\n",
    "Cuối cùng, bạn nén thư mục `MSSV` này lại và nộp ở link trên moodle. <font color=red>Bạn lưu ý tuân thủ chính xác qui định nộp bài.</font>"
   ]
  },
  {
   "cell_type": "markdown",
   "id": "ec7fbe3c",
   "metadata": {},
   "source": [
    "# Bài 0 \n",
    "- Nhắc lại về:\n",
    "    + List\n",
    "    + Tuple\n",
    "    + Dictionary\n",
    "    + Set\n",
    "    + For loop\n",
    "    + List comprehensive\n",
    "    + zip "
   ]
  },
  {
   "cell_type": "markdown",
   "id": "87f6ecb5",
   "metadata": {},
   "source": [
    "# Bai 1\n",
    "\n",
    "- Viết hàm đếm số lượng từ trong một chuỗi. \n",
    "- Đầu vào của hàm, nhận vào một chuỗi (string). Đầu ra là một dictionary, có dạng {\"word\": số lượng}\n",
    "- Nhiệm vụ cảu sinh viên: hoàn thành hàm ```count_word```"
   ]
  },
  {
   "cell_type": "code",
   "execution_count": 4,
   "id": "3fceca47",
   "metadata": {},
   "outputs": [],
   "source": [
    "def count_word(input_string):\n",
    "    \"\"\"\n",
    "    Function count the number of word. The separator is space (' ')\n",
    "    \n",
    "    * Parameter:\n",
    "    input_string -- a string\n",
    "    \n",
    "    * Return\n",
    "    word_histogram -- a dictionary, indicate the {\"word\": num_of_word}\n",
    "    \"\"\"\n",
    "    \n",
    "    word_histogram = None\n",
    "    \n",
    "    # YOUR CODE HERE\n",
    "    raise NotImplementedError()\n",
    "    \n",
    "    return word_histogram"
   ]
  },
  {
   "cell_type": "code",
   "execution_count": 6,
   "id": "34b2e8bf",
   "metadata": {},
   "outputs": [
    {
     "name": "stdout",
     "output_type": "stream",
     "text": [
      "{'hello': 1, 'world': 2, 'my': 1, 'name': 1, 'is': 1}\n"
     ]
    }
   ],
   "source": [
    "input_string = \"hello world my name is world\"\n",
    "\n",
    "word_histogram = count_word(input_string)\n",
    "\n",
    "print(word_histogram)\n",
    "\n",
    "assert word_histogram == {'hello': 1, 'world': 2, 'my': 1, 'name': 1, 'is': 1}"
   ]
  },
  {
   "cell_type": "markdown",
   "id": "7b7ac44f",
   "metadata": {},
   "source": [
    "# Bài 2\n",
    "- Viết chương trình kiểm tra trò chơi kéo búa bao (rock - paper - scissor).\n",
    "- Đầu vào của hàm, nhận vào hai chuỗi tương ứng: player_1, player_2. Giá trị của các player chỉ có thể là một trong ba ``` \"rock\", \"paper\", \"scissor\"```. Trả về 0, 1, 2. Tương ứng: \n",
    "    + 0: hóa\n",
    "    + 1: player_1 thắng\n",
    "    + 2: player_2 thắng\n",
    "    \n",
    "- Nhiệm vụ của sinh viên: hoàn thành hàm: ```check_rock_paper_scissor```"
   ]
  },
  {
   "cell_type": "code",
   "execution_count": 7,
   "id": "6531eb31",
   "metadata": {},
   "outputs": [],
   "source": [
    "def check_rock_paper_scissor(player_1, player_2):\n",
    "    \"\"\"\n",
    "    Function to check the result of game rock, paper, scissor\n",
    "    \n",
    "    * Parameter\n",
    "    player_1 --  a string\n",
    "    player_2 --  a string\n",
    "    \n",
    "    * Return \n",
    "    result_check -- a number, indicate as defined above\n",
    "    \"\"\"\n",
    "    \n",
    "    result_check = None\n",
    "    \n",
    "    # YOUR CODE HERE\n",
    "    raise NotImplementedError()\n",
    "    \n",
    "    return result_check"
   ]
  },
  {
   "cell_type": "code",
   "execution_count": null,
   "id": "0c9f07c8",
   "metadata": {},
   "outputs": [],
   "source": [
    "result_1 = check_rock_paper_scissor('rock', 'paper')\n",
    "assert result_1 == 2\n",
    "\n",
    "result_2 = check_rock_paper_scissor('scissor', 'paper')\n",
    "assert result_2 == 1"
   ]
  },
  {
   "cell_type": "markdown",
   "id": "5264407a",
   "metadata": {},
   "source": [
    "# Bài 3\n",
    "\n",
    "- Viết chương trình nhận vào một giá trị số thập phân, trả về giá trị nhị phân tương ứng. \n",
    "- Nhiệm vụ của sinh viên: hoàn thành hàm ```dec_to_bin```\n",
    "- *Lưu ý: sinh viên không được dùng hàm hỗ trợ của Python*"
   ]
  },
  {
   "cell_type": "code",
   "execution_count": null,
   "id": "c09ece8e",
   "metadata": {},
   "outputs": [],
   "source": [
    "def dec_to_bin(decimal):\n",
    "    \"\"\"\n",
    "    Function to convert from decimal to binary\n",
    "    \n",
    "    * Parameter\n",
    "    decimal -- a number, indicate an input number in decimal form\n",
    "    \n",
    "    * Return\n",
    "    binary -- a number, indicate a number result in binary form\n",
    "    \"\"\"\n",
    "    \n",
    "    binary = None\n",
    "    \n",
    "    # YOUR CODE HERE\n",
    "    raise NotImplementedError()\n",
    "    \n",
    "    return binary"
   ]
  },
  {
   "cell_type": "code",
   "execution_count": null,
   "id": "9acda3c9",
   "metadata": {},
   "outputs": [],
   "source": [
    "decimal = 168\n",
    "assert dec_to_bin(decimal) == 10101000"
   ]
  },
  {
   "cell_type": "markdown",
   "id": "f1dc248f",
   "metadata": {},
   "source": [
    "# Bài 4\n",
    "- Viết chương trình đảo ngược chuỗi.\n",
    "- Nhiệm vụ của sinh viên: hoàn thành hàm ```reverse_string```"
   ]
  },
  {
   "cell_type": "code",
   "execution_count": 9,
   "id": "c678cb58",
   "metadata": {},
   "outputs": [],
   "source": [
    "def reverse_string(input_string):\n",
    "    \"\"\"\n",
    "    Function to reverse an input string\n",
    "    \n",
    "    * Parameter:\n",
    "    input_string -- a string\n",
    "    \n",
    "    * Return:\n",
    "    result_string -- a string, in the reverse order\n",
    "    \"\"\"\n",
    "    \n",
    "    result_string = None\n",
    "    \n",
    "    result_string = input_string[::-1]\n",
    "    \n",
    "    return result_string"
   ]
  },
  {
   "cell_type": "code",
   "execution_count": 11,
   "id": "3bc1be8e",
   "metadata": {},
   "outputs": [
    {
     "data": {
      "text/plain": [
       "'neihn ut coh aohk'"
      ]
     },
     "execution_count": 11,
     "metadata": {},
     "output_type": "execute_result"
    }
   ],
   "source": [
    "input_string = \"tri tue nhan tao\"\n",
    "assert reverse_string(input_string) == 'oat nahn eut irt'\n",
    "\n",
    "input_string = \"khoa hoc tu nhien\"\n",
    "assert reverse_string(input_string) == 'neihn ut coh aohk'"
   ]
  },
  {
   "cell_type": "markdown",
   "id": "31dee173",
   "metadata": {},
   "source": [
    "# Bai 5\n",
    "- Viết chương trình kiểm tra xem: ngày, tháng, năm nhập vào có hợp lệ hay không. Ví dụ: ngày 30 tháng 2 năm 2020 không phải là một ngày hợp lệ.\n",
    "- Nhiệm vụ của sinh viên, hoàn thành hàm ```check_valid_day```"
   ]
  },
  {
   "cell_type": "code",
   "execution_count": 8,
   "id": "2726c33d",
   "metadata": {},
   "outputs": [],
   "source": [
    "def check_valid_day(day, month, year):\n",
    "    \"\"\"\n",
    "    Function to check whether day/month/year is valid or not\n",
    "    \n",
    "    * Parameters:\n",
    "    day -- a positive number\n",
    "    month -- a positive number\n",
    "    year -- a positive number\n",
    "    \n",
    "    * Return:\n",
    "    is_valid_day -- a boolean variable\n",
    "    \"\"\"\n",
    "    \n",
    "    is_valid_day = None\n",
    "    \n",
    "    # YOUR CODE HERE\n",
    "    raise NotImplementedError()\n",
    "    \n",
    "    return is_valid_day"
   ]
  },
  {
   "cell_type": "code",
   "execution_count": null,
   "id": "cdb7c7f7",
   "metadata": {},
   "outputs": [],
   "source": [
    "assert check_valid_day(13, 9, 1999) == True\n",
    "assert check_valid_day(13, 15, 1999) == False\n",
    "assert check_valid_day(50, 9, 1999) == False"
   ]
  },
  {
   "cell_type": "markdown",
   "id": "cc0a13fd",
   "metadata": {},
   "source": [
    "# Bài 6\n",
    "- Viết chương trình, tìm phần tử xuất hiện nhiều nhất trong mảng 1 chiều (mảng số nguyên). Nếu có nhiều phần tử kết quả, chọn ngẫu nhiên một trong số đó.\n",
    "- Nhiệm vụ của sinh viên. Hoàn thành hàm ```find_most_occur_in_list```\n",
    "\n",
    "*Giải thích cho sinh viên về việc strade-of time and space*"
   ]
  },
  {
   "cell_type": "code",
   "execution_count": null,
   "id": "27ad4b1d",
   "metadata": {},
   "outputs": [],
   "source": [
    "def find_most_occur_in_list(arr):\n",
    "    \"\"\"\n",
    "    Function to find the element, which occur the most\n",
    "    \n",
    "    * Parameters\n",
    "    arr -- a list, indicate an input list\n",
    "    \n",
    "    * Return \n",
    "    most_occur_element -- an element of a list.\n",
    "    \"\"\"\n",
    "    \n",
    "    most_occur_element = None\n",
    "    \n",
    "    # YOUR CODE HERE\n",
    "    raise NotImplementedError()\n",
    "    \n",
    "    return most_occur_element"
   ]
  },
  {
   "cell_type": "code",
   "execution_count": null,
   "id": "5fff11d8",
   "metadata": {},
   "outputs": [],
   "source": [
    "arr = [1, 2, 3, 4, 4, 4]\n",
    "assert find_most_occur_in_list(arr) == 4"
   ]
  },
  {
   "cell_type": "markdown",
   "id": "76aab84c",
   "metadata": {},
   "source": [
    "# Bài 7\n",
    "- Viết hàm kiểm tra xem, trong mảng có phần tử trùng nhau hay không? (mảng số nguyên)\n",
    "- Nhiệm vụ của sinh viên, hoàn thành hàm ```check_is_duplicate```"
   ]
  },
  {
   "cell_type": "code",
   "execution_count": null,
   "id": "8f523a24",
   "metadata": {},
   "outputs": [],
   "source": [
    "def check_is_duplicate(arr):\n",
    "    \"\"\"\n",
    "    Function to check whether the array contain the duplicate value\n",
    "    \n",
    "    * Parameters:\n",
    "    arr -- a list, indicate the input list of number\n",
    "    \n",
    "    * Return:\n",
    "    is_duplicate -- a boolean variable\n",
    "    \"\"\"\n",
    "    \n",
    "    is_duplicate = None\n",
    "    \n",
    "    # YOUR CODE HERE\n",
    "    raise NotImplementedError()\n",
    "    \n",
    "    return is_duplicate"
   ]
  },
  {
   "cell_type": "code",
   "execution_count": null,
   "id": "f1e697e3",
   "metadata": {},
   "outputs": [],
   "source": [
    "arr_1 = [1, 2, 3, 4]\n",
    "assert check_is_duplicate(arr_1) == False\n",
    "\n",
    "arr_2 = [1, 2, 3, 4, 3]\n",
    "assert check_is_duplicate(arr_2) == True"
   ]
  },
  {
   "cell_type": "markdown",
   "id": "c010573b",
   "metadata": {},
   "source": [
    "# Bài 8\n",
    "- Cho mảng số nguyên đã được sắp xếp từ trước. \n",
    "- Viết hàm kiểm tra xem, giá trị k có tồn tại trong mảng hay không?\n",
    "- Nhiệm vu của sinh viên: hoàn thành hàm ```find_k``` tương ứng."
   ]
  },
  {
   "cell_type": "code",
   "execution_count": null,
   "id": "f5d0ed27",
   "metadata": {},
   "outputs": [],
   "source": [
    "def find_k(arr, k):\n",
    "    \"\"\"\n",
    "    Function to check whether k exist in the arr or not.\n",
    "    \n",
    "    * Parameter\n",
    "    arr -- \n",
    "    k -- a number, indicate the \n",
    "    \n",
    "    * Return\n",
    "    is_k_exist -- a boolean respectively\n",
    "    \"\"\"\n",
    "    \n",
    "    is_k_exist = None\n",
    "    \n",
    "    # YOUR CODE HERE\n",
    "    raise NotImplementedError()\n",
    "    \n",
    "    return is_k_exist"
   ]
  },
  {
   "cell_type": "code",
   "execution_count": null,
   "id": "fefa6189",
   "metadata": {},
   "outputs": [],
   "source": [
    "arr = [1, 3, 5, 7, 9, 11, 13]\n",
    "\n",
    "k = 4\n",
    "assert find_k(arr, k) == False\n",
    "\n",
    "k = 11\n",
    "assert find_k(arr, k) == True"
   ]
  },
  {
   "cell_type": "markdown",
   "id": "235d91c1",
   "metadata": {},
   "source": [
    "# Bài 9\n",
    "- Viết chương trình nhận vào một giá trị số nhị phân, trả về giá trị thập phân tương ứng. \n",
    "- Nhiệm vụ của sinh viên: hoàn thành hàm ```bin_to_dec```\n",
    "- *Lưu ý: sinh viên không được dùng hàm hỗ trợ của Python*"
   ]
  },
  {
   "cell_type": "code",
   "execution_count": null,
   "id": "e66f7006",
   "metadata": {},
   "outputs": [],
   "source": [
    "def bin_to_dec(binary):\n",
    "    \"\"\"\n",
    "    Function to convert from binary to decimal\n",
    "    \n",
    "    * Parameter\n",
    "    binary -- a number, indicate an input number in binary form\n",
    "    \n",
    "    * Return\n",
    "    decimal -- a number, indicate a number result in decimal form\n",
    "    \"\"\"\n",
    "    \n",
    "    decimal = None\n",
    "    \n",
    "    # YOUR CODE HERE\n",
    "    raise NotImplementedError()\n",
    "    \n",
    "    return decimal"
   ]
  },
  {
   "cell_type": "code",
   "execution_count": null,
   "id": "72ec4df8",
   "metadata": {},
   "outputs": [],
   "source": [
    "binary = 10101000\n",
    "assert bin_to_dec(binary) == 168"
   ]
  }
 ],
 "metadata": {
  "kernelspec": {
   "display_name": "Python 3",
   "language": "python",
   "name": "python3"
  },
  "language_info": {
   "codemirror_mode": {
    "name": "ipython",
    "version": 3
   },
   "file_extension": ".py",
   "mimetype": "text/x-python",
   "name": "python",
   "nbconvert_exporter": "python",
   "pygments_lexer": "ipython3",
   "version": "3.7.9"
  }
 },
 "nbformat": 4,
 "nbformat_minor": 5
}
