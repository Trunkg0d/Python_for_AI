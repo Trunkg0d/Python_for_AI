{
 "cells": [
  {
   "cell_type": "markdown",
   "id": "680497ef",
   "metadata": {},
   "source": [
    "# LAB 9  - BÀI TẬP TỔNG HỢP\n",
    "\n",
    "Họ tên:\n",
    "\n",
    "MSSV:"
   ]
  },
  {
   "cell_type": "markdown",
   "id": "4509df9e",
   "metadata": {},
   "source": [
    "&#127802; Sinh viên lưu ý mình sẽ dùng chương trình hỗ trợ chấm bài nên bạn cần phải tuân thủ chính xác qui định mà mình đặt ra, nếu không rõ thì hỏi, chứ không nên tự tiện làm theo ý của cá nhân.\n",
    "\n",
    "**Cách làm bài**\n",
    "\n",
    "Bạn sẽ làm trực tiếp trên file Python notebook này. Đầu tiên, bạn điền họ tên và MSSV vào phần đầu file ở bên trên. Trong file, bạn làm bài ở những chỗ có ghi là:\n",
    "\n",
    "```python\n",
    "# YOUR CODE HERE\n",
    "raise NotImplementedError()\n",
    "```\n",
    "hoặc đối với những phần code không bắt buộc thì là:\n",
    "```python\n",
    "# YOUR CODE HERE (OPTION)\n",
    "```\n",
    "\n",
    "Tất nhiên, khi làm thì bạn xóa dòng `raise NotImplementedError()` đi.\n",
    "Đối những phần yêu cầu code thì thường ở ngay phía dưới sẽ có một (hoặc một số) cell chứa các bộ test để giúp bạn biết đã code đúng hay chưa; nếu chạy cell này không có lỗi gì thì có nghĩa là qua được các bộ test. Trong một số trường hợp, các bộ test có thể sẽ không đầy đủ; nghĩa là, nếu không qua được test thì là code sai, nhưng nếu qua được test thì chưa chắc đã đúng hoàn toàn.\n",
    "\n",
    "Trong khi làm bài, bạn có thể cho in ra màn hình, tạo thêm các cell để test. Nhưng khi nộp bài thì bạn xóa các cell mà bạn tự tạo, xóa hoặc comment các câu lệnh in ra màn hình. Bạn lưu ý <font color=red>không được tự tiện xóa các cell hay sửa code của Thầy</font> (trừ những chỗ được phép sửa như đã nói ở trên).\n",
    "\n",
    "\n",
    "Trong khi làm bài, thường xuyên `Ctrl + S` để lưu lại bài làm của bạn, tránh mất mát thông tin.\n",
    "\n",
    "Bạn có thể thảo luận ý tưởng với bạn khác hoặc từ các nguồn khác, nhưng code và bài làm phải là của bạn, dựa trên sự hiểu thật sự của bạn. Nếu vi phạm thì sẽ bị 0 điểm cho toàn bộ môn học.\n",
    "\n",
    "**Cách nộp bài**\n",
    "\n",
    "Khi chấm bài, đầu tiên mình sẽ chọn `Kernel` - `Restart & Run All` để restart và chạy tất cả các cell trong notebook của bạn; do đó, trước khi nộp bài, bạn nên chạy thử `Kernel` - `Restart & Run All` để đảm bảo mọi chuyện diễn ra đúng như mong đợi.\n",
    "\n",
    "Sau đó, bạn tạo thư mục nộp bài theo cấu trúc sau:\n",
    "- Thư mục `MSSV` (vd, nếu bạn có MSSV là 123 thì bạn đặt tên thư mục là `123`)\n",
    "    - File `Lab 9 - SV.ipynb`\n",
    "- Các bạn nén lại MSSV.zip (*.zip chứ không phải .rar hay gì khác)\n",
    "\n",
    "Cuối cùng, bạn nén thư mục `MSSV` này lại và nộp ở link trên moodle. <font color=red>Bạn lưu ý tuân thủ chính xác qui định nộp bài.</font>"
   ]
  },
  {
   "cell_type": "code",
   "execution_count": 1,
   "id": "c35d523c",
   "metadata": {},
   "outputs": [],
   "source": [
    "import numpy as np\n",
    "import timeit\n",
    "import matplotlib.pyplot as plt"
   ]
  },
  {
   "cell_type": "markdown",
   "id": "0e44e8dd",
   "metadata": {},
   "source": [
    "# 1. Sắp xếp\n",
    "\n",
    "Cho trước mảng `arr` bên dưới."
   ]
  },
  {
   "cell_type": "code",
   "execution_count": 2,
   "id": "4ad7f584",
   "metadata": {},
   "outputs": [],
   "source": [
    "np.random.seed(0)\n",
    "arr = np.random.randint(0, 10000, size = (3000,))\n",
    "arr = list(arr)"
   ]
  },
  {
   "cell_type": "markdown",
   "id": "e8560b16",
   "metadata": {},
   "source": [
    "Sinh viên hoàn thành hàm sắp xếp `sort_arr` bằng phương pháp sắp xếp có tên là: Buuble sort (sắp xếp nổi bọt)"
   ]
  },
  {
   "cell_type": "code",
   "execution_count": 3,
   "id": "af58c7a8",
   "metadata": {},
   "outputs": [],
   "source": [
    "def sort_arr(arr):\n",
    "\n",
    "    # YOUR CODE HERE\n",
    "    raise NotImplementedError()\n",
    "    \n",
    "    return arr"
   ]
  },
  {
   "cell_type": "code",
   "execution_count": 4,
   "id": "9e97c64a",
   "metadata": {
    "deletable": false,
    "editable": false
   },
   "outputs": [],
   "source": [
    "# TEST\n",
    "sorted_arr = sort_arr(arr)\n",
    "\n",
    "assert sorted_arr == sorted(arr)"
   ]
  },
  {
   "cell_type": "markdown",
   "id": "68f2f867",
   "metadata": {},
   "source": [
    "# 2. Sắp xếp (đệ quy)\n",
    "\n",
    "Cho trước mảng `arr` bên dưới."
   ]
  },
  {
   "cell_type": "code",
   "execution_count": 5,
   "id": "f0f4e3b4",
   "metadata": {},
   "outputs": [],
   "source": [
    "np.random.seed(0)\n",
    "arr = np.random.randint(0, 10000, size = (3000,))\n",
    "arr = list(arr)"
   ]
  },
  {
   "cell_type": "markdown",
   "id": "3f88b108",
   "metadata": {},
   "source": [
    "Sinh viên hoàn thành hàm sắp xếp `sort_arr_recursive` bằng bất kỳ phương pháp sắp xếp nào có sử dụng đệ quy."
   ]
  },
  {
   "cell_type": "code",
   "execution_count": 6,
   "id": "ceaad224",
   "metadata": {},
   "outputs": [],
   "source": [
    "# YOUR CODE HERE (OPTION)"
   ]
  },
  {
   "cell_type": "code",
   "execution_count": 7,
   "id": "ce1f2841",
   "metadata": {},
   "outputs": [],
   "source": [
    "def sort_arr_recursive(arr):\n",
    "    \n",
    "    # YOUR CODE HERE\n",
    "    raise NotImplementedError()\n",
    "    \n",
    "    return arr"
   ]
  },
  {
   "cell_type": "code",
   "execution_count": 8,
   "id": "18ece9f9",
   "metadata": {
    "deletable": false,
    "editable": false
   },
   "outputs": [],
   "source": [
    "# TEST\n",
    "sorted_arr = sort_arr_recursive(arr)\n",
    "\n",
    "assert sorted_arr == sorted(arr)"
   ]
  },
  {
   "cell_type": "markdown",
   "id": "67520bde",
   "metadata": {},
   "source": [
    "# 3. Đo thời gian thực thi \n",
    "\n",
    "Nhiệm vụ của sinh viên, đo thời gian thực thi của của hai phép so sánh khi không dùng đệ quy và dùng đệ quy. \n",
    "Kết quả được lưu vào biến `time_sort` và `time_sort_recursive`.\n",
    "\n",
    "Sinh viên tham khảo hàm `timeit.default_timer()\n",
    "`"
   ]
  },
  {
   "cell_type": "code",
   "execution_count": null,
   "id": "190e9040",
   "metadata": {},
   "outputs": [],
   "source": [
    "# YOUR CODE HERE\n",
    "raise NotImplementedError()"
   ]
  },
  {
   "cell_type": "markdown",
   "id": "461da422",
   "metadata": {},
   "source": [
    "# 4. Sử dụng biểu đồ cột (bar chart) biểu diễn thời gian thực thi của hai thuật toán."
   ]
  },
  {
   "cell_type": "code",
   "execution_count": null,
   "id": "53ac78c4",
   "metadata": {},
   "outputs": [],
   "source": [
    "# YOUR CODE HERE\n",
    "raise NotImplementedError()"
   ]
  },
  {
   "cell_type": "markdown",
   "id": "1012b32a",
   "metadata": {},
   "source": [
    "# 5. Tính toán histogram\n",
    "\n",
    "Cho trước mảng `arr` bên dưới, nhiệm vụ của sinh viên hoàn thành hành `calculate_histogram`."
   ]
  },
  {
   "cell_type": "code",
   "execution_count": 9,
   "id": "894224a7",
   "metadata": {},
   "outputs": [],
   "source": [
    "np.random.seed(0)\n",
    "arr = np.random.randint(0, 100, size = (1000,))\n",
    "arr = list(arr)"
   ]
  },
  {
   "cell_type": "code",
   "execution_count": 10,
   "id": "04a903dc",
   "metadata": {},
   "outputs": [],
   "source": [
    "def calculate_histogram(arr):\n",
    "\n",
    "    hist = None\n",
    "    \n",
    "    # YOUR CODE HERE\n",
    "    raise NotImplementedError()\n",
    "    \n",
    "    return hist"
   ]
  },
  {
   "cell_type": "code",
   "execution_count": 11,
   "id": "714f33d8",
   "metadata": {
    "deletable": false,
    "editable": false
   },
   "outputs": [],
   "source": [
    "# TEST\n",
    "hist = calculate_histogram(arr)\n",
    "assert hist == {44: 7, 47: 8, 64: 7, 67: 16, 9: 10, 83: 14, 21: 8, 36: 14, 87: 14, 70: 10, 88: 11, 12: 12, 58: 13, 65: 11, \\\n",
    "                 39: 12, 46: 13, 81: 12, 37: 10, 25: 9, 77: 6, 72: 11, 20: 15, 80: 15, 69: 15, 79: 15, 82: 9, 99: 11, 49: 9, \\\n",
    "                 29: 13, 19: 10, 14: 5, 32: 11, 57: 9, 31: 7, 74: 8, 23: 10, 35: 14, 75: 8, 55: 5, 28: 9, 34: 10, 0: 18, \\\n",
    "                 53: 14, 5: 12, 38: 8, 17: 7, 4: 10, 42: 8, 1: 7, 41: 10, 11: 9, 91: 15, 84: 8, 68: 7, 6: 11, 3: 15, 76: 10, \\\n",
    "                 52: 6, 78: 8, 15: 4, 13: 10, 85: 7, 48: 10, 95: 5, 94: 13, 50: 8, 93: 10, 98: 9, 73: 11, 10: 12, 43: 13, \\\n",
    "                 59: 7, 2: 7, 62: 9, 27: 6, 86: 8, 51: 12, 54: 10, 56: 8, 60: 9, 30: 12, 24: 11, 40: 9, 26: 12, 66: 9, 61: 8, \\\n",
    "                 96: 8, 16: 7, 33: 13, 71: 12, 18: 11, 89: 11, 90: 9, 45: 9, 97: 8, 8: 8, 22: 8, 92: 10, 63: 6, 7: 12}"
   ]
  },
  {
   "attachments": {
    "image.png": {
     "image/png": "[encoded data removed]"
    }
   },
   "cell_type": "markdown",
   "id": "8247c2dc",
   "metadata": {},
   "source": [
    "# 6. Sử dụng biểu đồ cột biểu diễn histogram trên\n",
    "\n",
    "Nếu chính xác, kết quả sẽ như vầy \n",
    "![image.png](attachment:image.png)"
   ]
  },
  {
   "cell_type": "code",
   "execution_count": 12,
   "id": "efdb1d87",
   "metadata": {},
   "outputs": [
    {
     "data": {
      "text/plain": [
       "<BarContainer object of 100 artists>"
      ]
     },
     "execution_count": 12,
     "metadata": {},
     "output_type": "execute_result"
    },
    {
     "data": {
      "image/png": "[encoded data removed]",
      "text/plain": [
       "<Figure size 432x288 with 1 Axes>"
      ]
     },
     "metadata": {
      "needs_background": "light"
     },
     "output_type": "display_data"
    }
   ],
   "source": [
    "# YOUR CODE HERE\n",
    "raise NotImplementedError()"
   ]
  },
  {
   "cell_type": "markdown",
   "id": "c6b61bef",
   "metadata": {},
   "source": [
    "# 7. Binning array\n",
    "\n",
    "Kỹ thuật **binning** cho phép ta rời rạc hóa dữ liệu thành các bins đã cho từ trước. \n",
    "\n",
    "Cho trước mảng arr bên dưới, nhiệm vụ của sinh viên hoàn thành hành `calculate_histogram_binning`. Với bins là các khoảng `[0, 10, 20, 30, 40, 50, 60, 70, 80, 90, 100]`"
   ]
  },
  {
   "cell_type": "code",
   "execution_count": 13,
   "id": "08b165a2",
   "metadata": {},
   "outputs": [],
   "source": [
    "np.random.seed(0)\n",
    "arr = np.random.randint(0, 100, size = (1000,))\n",
    "arr = list(arr)"
   ]
  },
  {
   "cell_type": "code",
   "execution_count": 14,
   "id": "4c83e58b",
   "metadata": {},
   "outputs": [],
   "source": [
    "def calculate_histogram_binning(arr):\n",
    "    hist = None\n",
    "    \n",
    "    # YOUR CODE HERE\n",
    "    raise NotImplementedError()\n",
    "    \n",
    "    return hist"
   ]
  },
  {
   "cell_type": "code",
   "execution_count": 15,
   "id": "5bc76b8b",
   "metadata": {
    "deletable": false,
    "editable": false
   },
   "outputs": [],
   "source": [
    "# TEST\n",
    "hist = calculate_histogram_binning(arr)\n",
    "\n",
    "assert hist == {0: 110, 10: 87, 20: 101, 30: 111, 40: 96, 50: 92, 60: 97, 70: 99, 80: 109, 90: 98}"
   ]
  },
  {
   "attachments": {
    "image.png": {
     "image/png": "[encoded data removed]"
    }
   },
   "cell_type": "markdown",
   "id": "8cceb360",
   "metadata": {},
   "source": [
    "# 8. Sử dụng biểu đồ cột biểu diễn histogram đã binning\n",
    "\n",
    "Nếu chính xác, kết quả sẽ như vầy\n",
    "![image.png](attachment:image.png)"
   ]
  },
  {
   "cell_type": "code",
   "execution_count": 16,
   "id": "5f0e8d83",
   "metadata": {},
   "outputs": [
    {
     "data": {
      "text/plain": [
       "<BarContainer object of 10 artists>"
      ]
     },
     "execution_count": 16,
     "metadata": {},
     "output_type": "execute_result"
    },
    {
     "data": {
      "image/png": "[encoded data removed]",
      "text/plain": [
       "<Figure size 432x288 with 1 Axes>"
      ]
     },
     "metadata": {
      "needs_background": "light"
     },
     "output_type": "display_data"
    }
   ],
   "source": [
    "# YOUR CODE HERE\n",
    "raise NotImplementedError()"
   ]
  },
  {
   "cell_type": "code",
   "execution_count": null,
   "id": "6d0720bc",
   "metadata": {},
   "outputs": [],
   "source": []
  }
 ],
 "metadata": {
  "kernelspec": {
   "display_name": "Python 3",
   "language": "python",
   "name": "python3"
  },
  "language_info": {
   "codemirror_mode": {
    "name": "ipython",
    "version": 3
   },
   "file_extension": ".py",
   "mimetype": "text/x-python",
   "name": "python",
   "nbconvert_exporter": "python",
   "pygments_lexer": "ipython3",
   "version": "3.7.9"
  }
 },
 "nbformat": 4,
 "nbformat_minor": 5
}
